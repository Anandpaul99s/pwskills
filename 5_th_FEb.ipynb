{
 "cells": [
  {
   "cell_type": "markdown",
   "id": "80842af9-9857-45c9-b4fc-40b3e3093018",
   "metadata": {},
   "source": [
    "## Q1. Explain Class and Object with respect to Object-Oriented Programming. Give a suitable example.\n",
    "##  Ans) class is a template or blue print to create objects,represents data members and behaviours of objects\n",
    "##  objects can be described as instance or physical existence of a class\n",
    "##   example: when constructing a buildling it has a plan and that plan contains contains how to build n number of buildings\n",
    "##   plan is blueprint and acts as like a class,each building is considered as object,For one class we can create n number of objects"
   ]
  },
  {
   "cell_type": "markdown",
   "id": "23835b72-1b8f-4bcc-8f27-5a389e6b5869",
   "metadata": {},
   "source": [
    "## Q2. Name the four pillars of OOPs.\n",
    " ## Ans) The four pillars of OOPs are Inheritance,Polymorphism,Encapsulation,Abstraction"
   ]
  },
  {
   "cell_type": "markdown",
   "id": "51ead00e-ca06-44e8-b894-aca6f4dfcf1a",
   "metadata": {},
   "source": [
    "## Q3)Explain why the __init__() function is used. Give a suitable example.\n",
    "## Ans) __init__() is a constructor and it is a special method in python.It get executed automatically whenever we create an object.We are not required to call explicitly.It is used to declare and initialize instance variables."
   ]
  },
  {
   "cell_type": "code",
   "execution_count": 1,
   "id": "8eb11b1d-c720-4d4c-a2f3-d46244dea844",
   "metadata": {},
   "outputs": [
    {
     "name": "stdout",
     "output_type": "stream",
     "text": [
      "My name is: Anand Paul\n",
      "marks: 100\n",
      "my roll no: 123\n"
     ]
    }
   ],
   "source": [
    "class Test:\n",
    "    def __init__(self,name,rollno,marks):\n",
    "        self.name=name\n",
    "        self.rollno=rollno\n",
    "        self.marks=marks\n",
    "    def talk(self):\n",
    "        print(\"My name is:\",self.name)\n",
    "        print(\"marks:\",self.marks)\n",
    "        print(\"my roll no:\",self.rollno)\n",
    "s1=Test(\"Anand Paul\",123,100)\n",
    "s1.talk()     \n"
   ]
  },
  {
   "cell_type": "markdown",
   "id": "f55373c6-4085-45f8-96fd-c0ed76126dc6",
   "metadata": {},
   "source": [
    "## Q4) Why self is used in OOPs?\n",
    "## Ans) The self variable is used to represent the instance of the class which is often used in object-oriented programming. It works as a reference to the object. Python uses the self parameter to refer to instance attributes and methods of the class."
   ]
  },
  {
   "cell_type": "markdown",
   "id": "b6347ffd-e3fd-412d-b4f6-f6e37369442d",
   "metadata": {},
   "source": [
    "## Q5) What is inheritance? Give an example for each type of inheritance.\n",
    "## Inheritance is a mechanism in which one class acquires the property of another class.In Single Inheritance one class extends another class (one class only)."
   ]
  }
 ],
 "metadata": {
  "kernelspec": {
   "display_name": "Python 3 (ipykernel)",
   "language": "python",
   "name": "python3"
  },
  "language_info": {
   "codemirror_mode": {
    "name": "ipython",
    "version": 3
   },
   "file_extension": ".py",
   "mimetype": "text/x-python",
   "name": "python",
   "nbconvert_exporter": "python",
   "pygments_lexer": "ipython3",
   "version": "3.10.8"
  }
 },
 "nbformat": 4,
 "nbformat_minor": 5
}
