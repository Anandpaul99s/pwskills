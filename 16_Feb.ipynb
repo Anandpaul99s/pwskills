{
 "cells": [
  {
   "cell_type": "markdown",
   "id": "946f2eb9-21b0-4a91-a8fb-9ab6de2e6d5d",
   "metadata": {},
   "source": [
    "## Q1. What is a database? Differentiate between SQL and NoSQL databases."
   ]
  },
  {
   "cell_type": "markdown",
   "id": "f5fd61e2-bb84-4f21-9537-218794e9acf3",
   "metadata": {},
   "source": [
    "A database is an organized collection of data stored and accessed electronically. It is designed to efficiently manage, store, and retrieve large amounts of data. Databases are widely used in various fields such as business, finance, healthcare, education, and more.\n",
    "\n",
    "SQL (Structured Query Language) and NoSQL (Not only SQL) are two types of database management systems with different architectures and data models.\n",
    "\n",
    "SQL databases are relational databases that use tables to store data. Each table contains columns that define the attributes of the data, and each row represents a single record. SQL databases use a schema to define the structure of the database and enforce data integrity. SQL databases are widely used in enterprise applications and have a well-defined standard for querying and managing data.\n",
    "\n",
    "NoSQL databases, on the other hand, do not use tables to store data. They use different data models, such as document-based, key-value, or graph-based. NoSQL databases are designed to be horizontally scalable and provide high performance for large-scale data storage and retrieval. They do not have a schema, allowing for greater flexibility in storing and querying data.\n",
    "\n",
    "Here are some key differences between SQL and NoSQL databases:\n",
    "\n",
    "1. Data Model: SQL databases use a relational data model with tables, rows, and columns, while NoSQL databases use various non-relational data models such as document-based, key-value, graph-based, and more.\n",
    "\n",
    "2. Schema: SQL databases have a well-defined schema to enforce data integrity, while NoSQL databases are schema-less, allowing for more flexibility in storing and querying data.\n",
    "\n",
    "3. Scalability: NoSQL databases are designed to be horizontally scalable, while SQL databases are vertically scalable.\n",
    "\n",
    "4. Query Language: SQL databases use SQL as the standard query language, while NoSQL databases use various query languages specific to their data model.\n",
    "\n",
    "5. Performance: NoSQL databases are optimized for performance and can handle large-scale data storage and retrieval, while SQL databases are better suited for complex queries and transactional processing.\n",
    "\n",
    "Overall, the choice between SQL and NoSQL databases depends on the specific requirements of the application and the nature of the data being stored."
   ]
  },
  {
   "cell_type": "markdown",
   "id": "8619374d-a029-4558-bc8f-8206dd4bf6e0",
   "metadata": {},
   "source": [
    "## Q2. What is DDL? Explain why CREATE, DROP, ALTER, and TRUNCATE are used with an example."
   ]
  },
  {
   "cell_type": "markdown",
   "id": "c62aa8d8-38b4-4875-bab0-71e2d68ed3a9",
   "metadata": {},
   "source": [
    "Ans) DDL stands for Data Definition Language. It is a set of SQL commands used to define the database schema or structure. The four main DDL commands are:\n",
    "\n",
    "1. CREATE: Used to create a new database, table, view, or index. For example\n",
    "\t\n",
    "    CREATE TABLE Customers (\n",
    "    CustomerID int NOT NULL,\n",
    "    FirstName varchar(255),\n",
    "    LastName varchar(255),\n",
    "    Email varchar(255),\n",
    "    PRIMARY KEY (CustomerID));\n",
    "\n",
    "2. DROP: Used to delete an entire database, table, view, or index. For example\n",
    "\tDROP TABLE Customers;\n",
    "3. ALTER: Used to modify the structure of an existing table or view. For example, adding a new column to a table:\n",
    "\tALTER TABLE Customers ADD COLUMN Age int;\n",
    "4. TRUNCATE: Used to delete all data from a table without deleting the table itself. For example\n",
    "\tTRUNCATE TABLE Customers;"
   ]
  },
  {
   "cell_type": "markdown",
   "id": "46079ab1-e35f-4478-a2b3-a78e33d9f554",
   "metadata": {},
   "source": [
    "## Q3. What is DML? Explain INSERT, UPDATE, and DELETE with an example."
   ]
  },
  {
   "cell_type": "markdown",
   "id": "381f09a4-2cb4-4b7e-8ad3-f79ea694f81c",
   "metadata": {},
   "source": [
    "Ans)   DML stands for Data Manipulation Language. It is a set of SQL commands used to manipulate data stored in the database. The three main DML commands are:\n",
    "\n",
    "1. INSERT: Used to insert new data into a table. For example:\n",
    "\n",
    "\tINSERT INTO Customers (CustomerID, FirstName, LastName, Email)\n",
    "\tVALUES (1, 'John', 'Doe', 'john.doe@example.com');\n",
    "\n",
    "2. UPDATE: Used to modify existing data in a table. For example:\n",
    "\tUPDATE Customers\n",
    "\tSET Email = 'jane.doe@example.com'\n",
    "\tWHERE CustomerID = 2;\n",
    "\n",
    "3. DELETE: Used to delete data from a table. For example:\n",
    "\tDELETE FROM Customers\n",
    "\tWHERE CustomerID = 3;\n"
   ]
  },
  {
   "cell_type": "markdown",
   "id": "201cc524-0c3c-4133-9d13-07c16c4eec94",
   "metadata": {},
   "source": [
    "## Q4. What is DQL? Explain SELECT with an example."
   ]
  },
  {
   "cell_type": "markdown",
   "id": "0c9c5092-bd05-4c59-9d27-1c287e6c0e80",
   "metadata": {},
   "source": [
    "DQL stands for Data Query Language. It is a set of SQL commands used to query data from the database. The main DQL command is\n",
    "SELECT: Used to retrieve data from one or more tables. For example:\n",
    "        \n",
    "        SELECT FirstName, LastName, Email\n",
    "         FROM Customers\n",
    "         WHERE Age > 18;\n"
   ]
  },
  {
   "cell_type": "markdown",
   "id": "ebcfad09-99ce-49cd-980e-7457f5a3159f",
   "metadata": {},
   "source": [
    "## Q5. Explain Primary Key and Foreign Key."
   ]
  },
  {
   "cell_type": "markdown",
   "id": "d90c9349-4c2a-407f-823a-299549ffbff4",
   "metadata": {},
   "source": [
    " Ans) Primary key is a column or a set of columns in a table that uniquely identifies each row in the table. A foreign key is a column or a set of columns in a table that refers to the primary key of another table. It is used to establish a relationship between the two tables. For example:\n",
    " \n",
    "    CREATE TABLE Orders (\n",
    "    OrderID int NOT NULL,\n",
    "    CustomerID int NOT NULL,\n",
    "    OrderDate date,\n",
    "    PRIMARY KEY (OrderID),\n",
    "    FOREIGN KEY (CustomerID) REFERENCES Customers(CustomerID)\n",
    ");\n"
   ]
  },
  {
   "cell_type": "markdown",
   "id": "ca0122f4-260b-41d0-a43d-1412aacb4112",
   "metadata": {},
   "source": [
    "## Q6. Write a python code to connect MySQL to python. Explain the cursor() and execute() method.  "
   ]
  },
  {
   "cell_type": "markdown",
   "id": "f97688e1-fda9-494f-b73c-74137109c635",
   "metadata": {},
   "source": [
    "import mysql.connector\n",
    "\n",
    "create connection\n",
    "mydb = mysql.connector.connect(\n",
    "    host=\"localhost\",\n",
    "    user=\"yourusername\",\n",
    "    password=\"yourpassword\",\n",
    "    database=\"mydatabase\"\n",
    ")\n",
    "\n",
    "\n",
    "mycursor = mydb.cursor()\n",
    "\n",
    "\n",
    "mycursor.execute(\"SELECT * FROM Customers\")\n",
    "\n",
    "\n",
    "results = mycursor.fetchall()\n",
    "\n",
    "\n",
    "for result in results:\n",
    "\t\n",
    "    print(result)\n",
    "\n",
    "\n",
    "The cursor() method creates a cursor object which is used to execute SQL statements and fetch results. The execute() method is used to execute an SQL statement. In this example, we are executing a SELECT statement to fetch all rows from the Customers table."
   ]
  },
  {
   "cell_type": "markdown",
   "id": "43e1c789-9e84-4c9a-8cb0-5340d2abe523",
   "metadata": {},
   "source": [
    "## Q7. Give the order of execution of SQL clauses in an SQL query."
   ]
  },
  {
   "cell_type": "markdown",
   "id": "55ef6c70-b0c6-45aa-9aba-c8d0d9fdcaca",
   "metadata": {},
   "source": [
    "Ans) The order of execution of SQL clauses in an SQL query is:\n",
    "1. SELECT\n",
    "2. FROM\n",
    "3. WHERE"
   ]
  },
  {
   "cell_type": "code",
   "execution_count": null,
   "id": "3112c1bd-532e-4977-addb-d103995057d6",
   "metadata": {},
   "outputs": [],
   "source": []
  }
 ],
 "metadata": {
  "kernelspec": {
   "display_name": "Python 3 (ipykernel)",
   "language": "python",
   "name": "python3"
  },
  "language_info": {
   "codemirror_mode": {
    "name": "ipython",
    "version": 3
   },
   "file_extension": ".py",
   "mimetype": "text/x-python",
   "name": "python",
   "nbconvert_exporter": "python",
   "pygments_lexer": "ipython3",
   "version": "3.10.8"
  }
 },
 "nbformat": 4,
 "nbformat_minor": 5
}
