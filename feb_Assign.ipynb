{
 "cells": [
  {
   "cell_type": "markdown",
   "id": "ed72ac21-b891-406d-8948-361f148f4975",
   "metadata": {},
   "source": [
    "## 1.Ans) tuples are an ordered collection of elements of different data types.Tuple items are ordered, unchangeable, and allow duplicate values"
   ]
  },
  {
   "cell_type": "markdown",
   "id": "819bd4b6-0fc6-4664-affb-9809f2686a8a",
   "metadata": {},
   "source": [
    "## 2.Ans) There are two tuples methods in python: i)count()-counts the number of occurences of the specified element ii)index()-Returns the index of the specified element of first occurence .As compared to list Tuples has only these two built-in methods because we cannot change the content of a tuple once assigned or immutable, we can't update,deletion of specified elements is not possible."
   ]
  },
  {
   "cell_type": "markdown",
   "id": "872f8ded-b3e5-43e9-9a02-c7ff06217040",
   "metadata": {},
   "source": [
    "## example:"
   ]
  },
  {
   "cell_type": "code",
   "execution_count": 2,
   "id": "1b3ce5f7-1540-45ca-a65f-8b0ffa1d88c1",
   "metadata": {},
   "outputs": [
    {
     "name": "stdout",
     "output_type": "stream",
     "text": [
      "0\n",
      "2\n"
     ]
    }
   ],
   "source": [
    "t=(1,1,2,2,3,4,5)\n",
    "print(t.index(1))\n",
    "print(t.count(2))"
   ]
  },
  {
   "cell_type": "markdown",
   "id": "0a7e3ef6-91e6-414c-96fa-4d73d0088645",
   "metadata": {
    "tags": []
   },
   "source": [
    "## 3.Ans)The collection data type set which is unordered,mutable,allow hetrogenous objects and doesnot allow duplicates values."
   ]
  },
  {
   "cell_type": "markdown",
   "id": "9d3d35b0-02db-4b87-9b90-ceea8d77917e",
   "metadata": {},
   "source": [
    "## example:"
   ]
  },
  {
   "cell_type": "code",
   "execution_count": 4,
   "id": "053b52db-eac9-48a0-9e75-0838c23db4e9",
   "metadata": {},
   "outputs": [
    {
     "name": "stdout",
     "output_type": "stream",
     "text": [
      "{1, 2, 3, 4}\n"
     ]
    }
   ],
   "source": [
    "List = [1, 1, 1, 2, 1, 3, 1, 4, 2, 1, 2, 2, 2, 3, 2, 4, 3, 1, 3, 2, 3, 3, 3, 4, 4, 1, 4, 2, 4, 3, 4, 4]\n",
    "s=set(List)\n",
    "print(s)"
   ]
  },
  {
   "cell_type": "markdown",
   "id": "cecb80a5-be91-4534-9ae9-a062d4850e5f",
   "metadata": {},
   "source": [
    "## 4.Ans) The set union() function in Python returns a new set which is the union of all sets with the first one - but only if set(s) or iterable object(s) were passed to the union() function.If no arguments were passed into the union() function, a copy of the set is returned. ii) The set update() method updates the current set, by adding items from another set or any other iterable.                                  Example:"
   ]
  },
  {
   "cell_type": "code",
   "execution_count": 9,
   "id": "55bb0b4f-2bb9-4709-ae11-cc0a263c7ecf",
   "metadata": {},
   "outputs": [
    {
     "name": "stdout",
     "output_type": "stream",
     "text": [
      "{1, 2, 3, 4, 5, 6, 7, 8}\n",
      "{'orange', 'google', 'banana', 'amazon', 'apple'}\n"
     ]
    }
   ],
   "source": [
    "# 4 ex\n",
    "s={1,2,3,4}\n",
    "s1={5,6,7,8}\n",
    "x = {\"apple\", \"banana\", \"orange\"}\n",
    "y = {\"google\", \"amazon\"}\n",
    "print(s.union(s1))\n",
    "x.update(y)\n",
    "print(x)"
   ]
  },
  {
   "cell_type": "markdown",
   "id": "8872eb90-adc4-49ff-acbf-6afa572364e0",
   "metadata": {},
   "source": [
    "## 5.Ans) Dictionaries are used to store data values in key:value pairs format. A dictionary is a collection which is ordered, changeable and do not allow duplicate keys but duplicates values are allowed.Dictionary syntax-> d=dict().                                                    Example: "
   ]
  },
  {
   "cell_type": "code",
   "execution_count": 10,
   "id": "414d2e6d-96d4-4be2-8b11-00b3fad54b4c",
   "metadata": {},
   "outputs": [
    {
     "name": "stdout",
     "output_type": "stream",
     "text": [
      "{1: 'Rahul', 2: 'Kishore', 3: 'Venkatesh'}\n",
      "dict_keys([1, 2, 3])\n",
      "dict_values(['Rahul', 'Kishore', 'Venkatesh'])\n",
      "dict_items([(1, 'Rahul'), (2, 'Kishore'), (3, 'Venkatesh')])\n"
     ]
    }
   ],
   "source": [
    "d=dict()\n",
    "d={1:\"Rahul\",2:\"Kishore\",3:\"Venkatesh\"}\n",
    "print(d)\n",
    "print(d.keys())\n",
    "print(d.values())\n",
    "print(d.items())"
   ]
  },
  {
   "cell_type": "markdown",
   "id": "e0e449a7-5054-4c6e-8dbd-cbce1bd0c91c",
   "metadata": {},
   "source": [
    "## 6.Ans) Yes, it is possible to create a nested dictionary in Python. A nested dictionary is a dictionary that contains another dictionary as one of its elements. Here's an example of a one-level nested dictionary in Python."
   ]
  },
  {
   "cell_type": "code",
   "execution_count": 11,
   "id": "9ec6b2cd-f779-481c-b8ee-ac0597d50eab",
   "metadata": {},
   "outputs": [
    {
     "name": "stdout",
     "output_type": "stream",
     "text": [
      "{'name': 'John Doe', 'address': {'street': '123 Main St', 'city': 'Anytown', 'state': 'CA', 'zip': '12345'}}\n"
     ]
    }
   ],
   "source": [
    "person = {\"name\": \"John Doe\",\"address\": {\"street\": \"123 Main St\",\"city\": \"Anytown\",\"state\": \"CA\",\"zip\": \"12345\"}}\n",
    "print(person)"
   ]
  },
  {
   "cell_type": "markdown",
   "id": "de50655d-e555-4daf-9f3c-c986c9f9d2e6",
   "metadata": {},
   "source": [
    "## 7.Ans) You can use the setdefault() method to create a key in a dictionary and set its value if it doesn't already exist. Here's how you could create a key named \"topics\" in a dictionary and add the value of the key as the list ['Python', 'Machine Learning', 'Deep Learning']"
   ]
  },
  {
   "cell_type": "code",
   "execution_count": 12,
   "id": "d7e311ca-6c32-4106-b447-f64dbe8eb4cb",
   "metadata": {},
   "outputs": [
    {
     "name": "stdout",
     "output_type": "stream",
     "text": [
      "{'topics': ['Python', 'Machine Learning', 'Deep Learning']}\n"
     ]
    }
   ],
   "source": [
    "d = {}\n",
    "d.setdefault(\"topics\", []).extend(['Python', 'Machine Learning', 'Deep Learning'])\n",
    "print(d)"
   ]
  },
  {
   "cell_type": "code",
   "execution_count": null,
   "id": "51ad192c-3018-4e31-aad2-afc1f21f2694",
   "metadata": {},
   "outputs": [],
   "source": []
  }
 ],
 "metadata": {
  "kernelspec": {
   "display_name": "Python 3 (ipykernel)",
   "language": "python",
   "name": "python3"
  },
  "language_info": {
   "codemirror_mode": {
    "name": "ipython",
    "version": 3
   },
   "file_extension": ".py",
   "mimetype": "text/x-python",
   "name": "python",
   "nbconvert_exporter": "python",
   "pygments_lexer": "ipython3",
   "version": "3.10.8"
  }
 },
 "nbformat": 4,
 "nbformat_minor": 5
}
