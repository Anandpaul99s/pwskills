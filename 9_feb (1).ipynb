{
 "cells": [
  {
   "cell_type": "markdown",
   "id": "18f6404c-85a5-44ae-b8cc-d241e3d95982",
   "metadata": {},
   "source": [
    "## Q1, Create a vehicle class with an init method having instance variables as name_of_vehicle, max_speed and average_of_vehicle."
   ]
  },
  {
   "cell_type": "code",
   "execution_count": 3,
   "id": "6ab6fab1-5f6d-4165-9666-80aed143019f",
   "metadata": {},
   "outputs": [
    {
     "name": "stdout",
     "output_type": "stream",
     "text": [
      "Toyota\n",
      "220\n",
      "50\n"
     ]
    }
   ],
   "source": [
    "class Vehicle:\n",
    "    def __init__(self, name, max_speed, avg):\n",
    "        self.name_of_vehicle = name\n",
    "        self.max_speed = max_speed\n",
    "        self.average_of_vehicle = avg\n",
    "car = Vehicle(\"Toyota\", 220, 50)\n",
    "print(car.name_of_vehicle)\n",
    "print(car.max_speed)\n",
    "print(car.average_of_vehicle)"
   ]
  },
  {
   "cell_type": "markdown",
   "id": "64b4581a-81f5-4fc9-8ed9-9aa58e3e41ab",
   "metadata": {},
   "source": [
    "## Q2. Create a child class car from the vehicle class created in Que 1, which will inherit the vehicle class.Create a method named seating_capacity which takes capacity as an argument and returns the name of the vehicle and its seating capacity."
   ]
  },
  {
   "cell_type": "code",
   "execution_count": 6,
   "id": "64c98228-7a09-4ef2-bc55-4ff33aaaed6f",
   "metadata": {},
   "outputs": [
    {
     "name": "stdout",
     "output_type": "stream",
     "text": [
      "Toyota has a seating capacity of 5 people.\n"
     ]
    }
   ],
   "source": [
    "class Car(Vehicle):\n",
    "    def __init__(self, name, max_speed, avg):\n",
    "        super().__init__(name, max_speed, avg)\n",
    "    \n",
    "    def seating_capacity(self, capacity):\n",
    "        return f\"{self.name_of_vehicle} has a seating capacity of {capacity} people.\"\n",
    "toyota = Car(\"Toyota\", 220, 50)\n",
    "print(toyota.seating_capacity(5))\n"
   ]
  },
  {
   "cell_type": "code",
   "execution_count": 7,
   "id": "262f3002-5b99-4daf-a8e6-2787c7b2f582",
   "metadata": {},
   "outputs": [],
   "source": [
    "## Q3. What is multiple inheritance? Write a python code to demonstrate multiple inheritance."
   ]
  },
  {
   "cell_type": "code",
   "execution_count": 8,
   "id": "7825fc2b-2407-4322-aa1f-361fd247f596",
   "metadata": {},
   "outputs": [
    {
     "name": "stdout",
     "output_type": "stream",
     "text": [
      "Flying Car 1 is driving...\n",
      "Flying Car 1 is flying...\n"
     ]
    }
   ],
   "source": [
    "class Vehicle:\n",
    "    def __init__(self, name):\n",
    "        self.name = name\n",
    "\n",
    "    def drive(self):\n",
    "        print(f\"{self.name} is driving...\")\n",
    "\n",
    "class Flyable:\n",
    "    def fly(self):\n",
    "        print(f\"{self.name} is flying...\")\n",
    "\n",
    "class FlyingCar(Vehicle, Flyable):\n",
    "    def __init__(self, name):\n",
    "        super().__init__(name)\n",
    "\n",
    "    def fly_and_drive(self):\n",
    "        self.drive()\n",
    "        self.fly()\n",
    "flying_car = FlyingCar(\"Flying Car 1\")\n",
    "flying_car.fly_and_drive()\n"
   ]
  },
  {
   "cell_type": "markdown",
   "id": "f2970283-c32c-4a58-ab88-f238c37d2d48",
   "metadata": {},
   "source": [
    "## Q4. What are getter and setter in python? Create a class and create a getter and a setter method in this class."
   ]
  },
  {
   "cell_type": "markdown",
   "id": "67f20b29-193b-4142-bbeb-6c66ff541a12",
   "metadata": {},
   "source": [
    "## Ans)In Python, getter and setter methods are used to retrieve and set the values of private instance variables of a class, respectively. Getter and setter methods are also known as accessor and mutator methods, respectively.\n",
    "\n",
    "## Here's an example implementation of a class with getter and setter methods in Python:"
   ]
  },
  {
   "cell_type": "code",
   "execution_count": 9,
   "id": "3a75be6f-6ea5-4ec1-a8c6-3ef6b712756b",
   "metadata": {},
   "outputs": [
    {
     "name": "stdout",
     "output_type": "stream",
     "text": [
      "John\n",
      "Bob\n",
      "25\n",
      "30\n",
      "Invalid age\n"
     ]
    }
   ],
   "source": [
    "class Person:\n",
    "    def __init__(self, name, age):\n",
    "        self._name = name\n",
    "        self._age = age\n",
    "\n",
    "    def get_name(self):\n",
    "        return self._name\n",
    "\n",
    "    def set_name(self, name):\n",
    "        self._name = name\n",
    "\n",
    "    def get_age(self):\n",
    "        return self._age\n",
    "\n",
    "    def set_age(self, age):\n",
    "        if age >= 0:\n",
    "            self._age = age\n",
    "        else:\n",
    "            print(\"Invalid age\")\n",
    "\n",
    "person1 = Person(\"John\", 25)\n",
    "print(person1.get_name())  # Output: John\n",
    "\n",
    "person1.set_name(\"Bob\")\n",
    "print(person1.get_name())  # Output: Bob\n",
    "\n",
    "print(person1.get_age())  # Output: 25\n",
    "\n",
    "person1.set_age(30)\n",
    "print(person1.get_age())  # Output: 30\n",
    "\n",
    "person1.set_age(-5)  # Output: Invalid age\n"
   ]
  },
  {
   "cell_type": "markdown",
   "id": "8a821102-2cc3-4698-91b6-212528b56532",
   "metadata": {},
   "source": [
    "## Q5.What is method overriding in python? Write a python code to demonstrate method overriding."
   ]
  },
  {
   "cell_type": "markdown",
   "id": "bab09957-2082-42ae-8cff-a3011b4503ea",
   "metadata": {},
   "source": [
    "## Ans) Method overriding is a feature of object-oriented programming where a subclass provides a different implementation of a method that is already defined in its parent class. This allows the subclass to change or extend the behavior of the inherited method.\n",
    "\n",
    "## Here's an example implementation of method overriding in Python"
   ]
  },
  {
   "cell_type": "code",
   "execution_count": 10,
   "id": "a27bee64-bef3-4483-88bd-83b52f2be595",
   "metadata": {},
   "outputs": [
    {
     "name": "stdout",
     "output_type": "stream",
     "text": [
      "Generic Animal makes a sound\n",
      "Buddy barks\n",
      "Whiskers meows\n"
     ]
    }
   ],
   "source": [
    "class Animal:\n",
    "    def __init__(self, name):\n",
    "        self.name = name\n",
    "\n",
    "    def speak(self):\n",
    "        print(f\"{self.name} makes a sound\")\n",
    "\n",
    "class Dog(Animal):\n",
    "    def speak(self):\n",
    "        print(f\"{self.name} barks\")\n",
    "\n",
    "class Cat(Animal):\n",
    "    def speak(self):\n",
    "        print(f\"{self.name} meows\")\n",
    "\n",
    "animal1 = Animal(\"Generic Animal\")\n",
    "animal1.speak()  # Output: Generic Animal makes a sound\n",
    "\n",
    "dog1 = Dog(\"Buddy\")\n",
    "dog1.speak()  # Output: Buddy barks\n",
    "\n",
    "cat1 = Cat(\"Whiskers\")\n",
    "cat1.speak()  # Output: Whiskers meows\n"
   ]
  },
  {
   "cell_type": "code",
   "execution_count": null,
   "id": "82da4dda-ea06-4d86-9984-7e9d210a2dd8",
   "metadata": {},
   "outputs": [],
   "source": []
  }
 ],
 "metadata": {
  "kernelspec": {
   "display_name": "Python 3 (ipykernel)",
   "language": "python",
   "name": "python3"
  },
  "language_info": {
   "codemirror_mode": {
    "name": "ipython",
    "version": 3
   },
   "file_extension": ".py",
   "mimetype": "text/x-python",
   "name": "python",
   "nbconvert_exporter": "python",
   "pygments_lexer": "ipython3",
   "version": "3.10.8"
  }
 },
 "nbformat": 4,
 "nbformat_minor": 5
}
