{
 "cells": [
  {
   "cell_type": "markdown",
   "id": "0b1a985c-8856-4805-a521-a0b8f56191e6",
   "metadata": {},
   "source": [
    "## Q1)Create a python program to sort the given list of tuples based on integer value using a lambda function.\n",
    "[('Sachin Tendulkar', 34357), ('Ricky Ponting', 27483), ('Jack Kallis', 25534), ('Virat Kohli', 24936)]"
   ]
  },
  {
   "cell_type": "code",
   "execution_count": 1,
   "id": "440b2a85-38cd-49ec-8cfc-0f1225215aea",
   "metadata": {},
   "outputs": [
    {
     "name": "stdout",
     "output_type": "stream",
     "text": [
      "[('Sachin Tendulkar', 34357), ('Ricky Ponting', 27483), ('Jack Kallis', 25534), ('Virat Kohli', 24936)]\n"
     ]
    }
   ],
   "source": [
    "data = [('Sachin Tendulkar', 34357), ('Ricky Ponting', 27483), ('Jack Kallis', 25534), ('Virat Kohli', 24936)]\n",
    "\n",
    "sorted_data = sorted(data, key=lambda x: x[1], reverse=True)\n",
    "\n",
    "print(sorted_data)"
   ]
  },
  {
   "cell_type": "markdown",
   "id": "52fcb94e-9b82-4b1c-8c7e-d0e50554a912",
   "metadata": {},
   "source": [
    "## Q2) Write a Python Program to find the squares of all the numbers in the given list of integers usinglambda and map functions.\n",
    "[1, 2, 3, 4, 5, 6, 7, 8, 9, 10]"
   ]
  },
  {
   "cell_type": "code",
   "execution_count": 1,
   "id": "88918de4-8664-4d32-bac6-599244085a73",
   "metadata": {},
   "outputs": [
    {
     "name": "stdout",
     "output_type": "stream",
     "text": [
      "Given list \n",
      " [1, 2, 3, 4, 5, 6, 7, 8, 9, 10]\n",
      "Squared list \n",
      " [1, 4, 9, 16, 25, 36, 49, 64, 81, 100]\n"
     ]
    }
   ],
   "source": [
    "lst2 = [1, 2, 3, 4, 5, 6, 7, 8, 9, 10]\n",
    "print(f\"Given list \\n {lst2}\")\n",
    "squared_list = list(map(lambda x : x**2, lst2))\n",
    "print(f\"Squared list \\n {squared_list}\")"
   ]
  },
  {
   "cell_type": "markdown",
   "id": "8252da24-c6f3-437d-bf77-f45f86d1649c",
   "metadata": {},
   "source": [
    "## Q3. Write a python program to convert the given list of integers into a tuple of strings. Use map and lambda functions\n",
    "## Given list : [1, 2, 3, 4, 5, 6, 7, 8, 9, 10]\n",
    "\n",
    "## Expected output: ('1', '2', '3', '4', '5', '6', '7', '8', '9', '10')"
   ]
  },
  {
   "cell_type": "code",
   "execution_count": 2,
   "id": "e8123c88-d27f-49a8-8903-39cc1d54a074",
   "metadata": {},
   "outputs": [
    {
     "name": "stdout",
     "output_type": "stream",
     "text": [
      "('1', '2', '3', '4', '5', '6', '7', '8', '9', '10')\n"
     ]
    }
   ],
   "source": [
    "lst3 = [1, 2, 3, 4, 5, 6, 7, 8, 9, 10]\n",
    "tpl = tuple(map(lambda x: f'{x}', lst3))\n",
    "print(tpl)"
   ]
  },
  {
   "cell_type": "markdown",
   "id": "dce089e8-3750-4566-94c0-3c108552e3de",
   "metadata": {},
   "source": [
    "## Q4. Write a python program using reduce function to compute the product of a list containing numbers from 1 to 25."
   ]
  },
  {
   "cell_type": "code",
   "execution_count": 3,
   "id": "dd67521b-671a-44b5-90aa-7f83af6c310a",
   "metadata": {},
   "outputs": [
    {
     "name": "stdout",
     "output_type": "stream",
     "text": [
      "15511210043330985984000000\n"
     ]
    }
   ],
   "source": [
    "import functools as ft\n",
    "lst4 = [1,2,3,4,5,6,7,8,9,10,11,12,13,14,15,16,17,18,19,20,21,22,23,24,25]\n",
    "product = ft.reduce(lambda x,y : x*y, lst4)\n",
    "print(product)"
   ]
  },
  {
   "cell_type": "markdown",
   "id": "1359c190-f843-41d0-9a86-04e2e62f99eb",
   "metadata": {},
   "source": [
    "## Q5. Write a python program to filter the numbers in a given list that are divisible by 2 and 3 using the filter function."
   ]
  },
  {
   "cell_type": "code",
   "execution_count": 4,
   "id": "54a9db1c-be60-42ab-81a3-1f561d225f0c",
   "metadata": {},
   "outputs": [
    {
     "name": "stdout",
     "output_type": "stream",
     "text": [
      "[6, 60, 90, 120]\n"
     ]
    }
   ],
   "source": [
    "lst5 = [2, 3, 6, 9, 27, 60, 90, 120, 55, 46]\n",
    "filter_lst = filter(lambda x : ((x % 2 == 0) and (x%3 == 0)), lst5)\n",
    "print(list(filter_lst))"
   ]
  },
  {
   "cell_type": "markdown",
   "id": "d8c660ed-8099-4176-b152-b8b583fb5020",
   "metadata": {},
   "source": [
    "## Q6. Write a python program to find palindromes in the given list of strings using lambda and filter function.\n",
    "['python', 'php', 'aba', 'radar', 'level']"
   ]
  },
  {
   "cell_type": "code",
   "execution_count": 5,
   "id": "00952cd3-9182-43eb-92cd-5621ec115828",
   "metadata": {},
   "outputs": [
    {
     "data": {
      "text/plain": [
       "['php', 'aba', 'radar', 'level']"
      ]
     },
     "execution_count": 5,
     "metadata": {},
     "output_type": "execute_result"
    }
   ],
   "source": [
    "lst6 = ['python', 'php', 'aba', 'radar', 'level']\n",
    "\n",
    "list(filter(lambda x : x == x[::-1], lst6))"
   ]
  },
  {
   "cell_type": "code",
   "execution_count": null,
   "id": "764a7271-2813-49cb-8cea-f2802c91fc99",
   "metadata": {},
   "outputs": [],
   "source": []
  }
 ],
 "metadata": {
  "kernelspec": {
   "display_name": "Python 3 (ipykernel)",
   "language": "python",
   "name": "python3"
  },
  "language_info": {
   "codemirror_mode": {
    "name": "ipython",
    "version": 3
   },
   "file_extension": ".py",
   "mimetype": "text/x-python",
   "name": "python",
   "nbconvert_exporter": "python",
   "pygments_lexer": "ipython3",
   "version": "3.10.8"
  }
 },
 "nbformat": 4,
 "nbformat_minor": 5
}
