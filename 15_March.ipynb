{
 "cells": [
  {
   "cell_type": "markdown",
   "id": "c68f2a60-1ccf-4b2d-a250-db6d96a80a7e",
   "metadata": {},
   "source": [
    "## Q1) Explain the following with Examples\n",
    "## 1)Artifical Intelligence\n",
    "## 2) Machine learning\n",
    "## 3) Deep learning"
   ]
  },
  {
   "cell_type": "markdown",
   "id": "2f95583b-c49a-41be-8cd4-dfadea744b26",
   "metadata": {},
   "source": [
    "### Ans) Artificial intelligence - Artificial intelligence refers to the development of computer programs or systems that can perform tasks that typically require human intelligence,such as perception,reasoning,learning,decision making etc.  Ai can perform its own tasks without any human interventions\n",
    "### Example: AI applocations include virtual assistants such as Siri or Alexa,image recognition software used in security systems\n",
    "### Machine Learning - Machine Learning is a subset of AI that involves use of algorithms and statistical models to enable computers to learn from data without being explicitly programmed.ML allows computers to learn from data and improve their performance on specific task over time.There are three types of ML :Supervised Learning,Unsupervised Learning,Reinforcement Learning\n",
    "### Examples: Recommendation systems in Amazon,Netflix\n",
    "### Deep Learning : Deep learning is a subset of machine learning that involves the use of artificial neural networks to enable computer to learn from data. Deep learning algorithms are inspired by the structure and function of human brain and are capable of processing large amounts of data and learning complex relationship between inputs and outputs.\n",
    "### An example of deep learning is image classification, where the model learns to classify images based on their contents. Another example is speech recognition, where the model learns to recognize spoken words and convert them into text."
   ]
  },
  {
   "cell_type": "markdown",
   "id": "fdc9450f-def1-4b2d-9aa8-0981d77ae264",
   "metadata": {},
   "source": [
    "## Q2) What is supervised Learning? List some examples of supervised learning?\n",
    "\n",
    "## Ans) Supervised learning is a type of machine learning where the model is trained on a labeled dataset, meaning that the input data is already paired with the correct output. The goal of supervised learning is to learn a mapping function from the input to the output. The model is trained on the labeled data, and then used to predict the output for new, unseen input data.. The aim of a supervised learning algorithm is to find a mapping function to map the input variable(x) with the output variable(y).\n",
    "## Example : Supervised learning helps organizations solve for a variety of real-world problems at scale, such as classifying spam in a separate folder from your inbox."
   ]
  },
  {
   "cell_type": "markdown",
   "id": "d2179249-b3f5-4177-89c0-7d2f68ae78c7",
   "metadata": {},
   "source": [
    "## Q3)  What is unsupervised Learning? List some examples of unsupervised learning?\n",
    "\n",
    "## Ans) Unsupervised learning is a type of machine learning where the model is trained on an unlabeled dataset, meaning that the input data is not paired with any correct output.The model learns to identify patterns in the data and group similar datapoints together.\n",
    "## An example of unsupervised learning is clustering, where the model groups similar data points together based on their similarities."
   ]
  },
  {
   "cell_type": "markdown",
   "id": "030b9736-080a-47b2-9486-b38914711019",
   "metadata": {},
   "source": [
    "## Q4) What is difference between b/w AI, ML, DL and DS?\n",
    "\n",
    "## Ans) AI refers to the development of computer programs that can perform tasks that typically require human intelligence, while ML is a subset of AI that involves the use of algorithms and statistical models to enable computers to learn from data. DL is a subset of ML that involves the use of artificial neural networks, and DS is an interdisciplinary field that involves the extraction, analysis, and interpretation of data to gain insights and knowledge from it."
   ]
  },
  {
   "cell_type": "markdown",
   "id": "5f5959d2-b05b-479d-bc29-7c0a2a26ffd0",
   "metadata": {},
   "source": [
    "## Q5) What are the differnces between supervised,unsupervised and semi supervised learning?\n",
    "\n",
    "## Ans)supervised learning is used when the output is known for the input data, unsupervised learning is used when the output is unknown, and semi-supervised learning is used when there is a small amount of labeled data and a large amount of unlabeled data available."
   ]
  },
  {
   "cell_type": "markdown",
   "id": "a1237896-f1e5-41fa-bb5a-bb03d5461a05",
   "metadata": {},
   "source": [
    "## 6Q) What is train, test and validation split? Explain the importance of each term.\n",
    " \n",
    "## Ans) Training set : It is a portion of data used to train the machine learning model.This is the data that the model will \"learn\" from. The model will be trained to make predictions based on this data, and the parameters of the model will be adjusted to minimize the error between the predicted output and the actual output.  \n",
    "\n",
    "## Validation set: The validation set is a portion of the data that is used to tune the hyperparameters of the model. Hyperparameters are parameters that are set before training begins, such as the learning rate or the number of hidden layers in a neural network. The validation set is used to evaluate the performance of the model on data that it has not seen before, and to make adjustments to the hyperparameters to improve the performance of the model.\n",
    "\n",
    "## Test set:  The test set is a portion of the data that is used to evaluate the final performance of the machine learning model. This is the data that the model has not seen before and is used to test its ability to generalize to new data. The performance of the model on the test set is a measure of how well it will perform on new, unseen data.\n",
    "\n",
    "## The training set is used to train the machine learning model, the validation set is used to tune the hyperparameters of the model, and the test set is used to evaluate the final performance of the model. It is important to use all three sets to ensure that the model is able to generalize well to new data and that its performance is not overestimated."
   ]
  },
  {
   "cell_type": "markdown",
   "id": "88441dde-3cc3-4be1-ae1f-9585979ed1ed",
   "metadata": {},
   "source": [
    "## 7Q) How can unsupervised learning be used in anomaly detection?\n",
    "\n",
    "## Ans) Unsupervised learning can be very useful for anomaly detection because it is often difficult to obtain a large amount of labeled data for rare or unusual events that may be classified as anomalies.Unsupervised learning can be used in anomaly detection through clustering, density-based methods, and autoencoders. These approaches can help identify rare or unusual events that may be considered anomalies even in the absence of labeled data."
   ]
  },
  {
   "cell_type": "markdown",
   "id": "d2fe75fa-92bb-45b2-b852-aa4cb2a8033e",
   "metadata": {},
   "source": [
    "## Q8) List down some commonly used supervisKd learning algorithms and unsupervised learning algorithms.\n",
    "\n",
    "## Ans) The most commonly used Supervised Learning algorithms are decision tree, logistic regression, linear regression, support vector machine. The most commonly used Unsupervised Learning algorithms are k-means clustering, hierarchical clustering, and apriori algorithm."
   ]
  }
 ],
 "metadata": {
  "kernelspec": {
   "display_name": "Python 3 (ipykernel)",
   "language": "python",
   "name": "python3"
  },
  "language_info": {
   "codemirror_mode": {
    "name": "ipython",
    "version": 3
   },
   "file_extension": ".py",
   "mimetype": "text/x-python",
   "name": "python",
   "nbconvert_exporter": "python",
   "pygments_lexer": "ipython3",
   "version": "3.10.8"
  }
 },
 "nbformat": 4,
 "nbformat_minor": 5
}
