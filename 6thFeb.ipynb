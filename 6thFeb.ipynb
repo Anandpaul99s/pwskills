{
 "cells": [
  {
   "cell_type": "markdown",
   "id": "45431f24-17da-4138-8c70-e059669f297e",
   "metadata": {},
   "source": [
    "## Q1. Create a function which will take a list as an argument and return the product of all the numbers after creating a flat list. Use the below-given list as an argument for your function.\n",
    "## list1 = [1,2,3,4, [44,55,66, True], False, (34,56,78,89,34), {1,2,3,3,2,1}, {1:34, \"key2\": [55, 67, 78, 89], 4: (45,22, 61, 34)}, [56, 'data science'], 'Machine Learning']"
   ]
  },
  {
   "cell_type": "code",
   "execution_count": 3,
   "id": "eec8d8ce-c4db-4494-a604-0e52113df793",
   "metadata": {},
   "outputs": [
    {
     "name": "stdout",
     "output_type": "stream",
     "text": [
      "2315262738624675840\n"
     ]
    }
   ],
   "source": [
    "def product_of_numbers(lst):\n",
    "    flat_lst = flatten(lst)\n",
    "    n=[]\n",
    "    for i in flat_lst:\n",
    "        if type(i)==int or type(i)==float:\n",
    "            n.append(i)\n",
    "    product = 1\n",
    "    for num in n:\n",
    "        product *= num\n",
    "    return product\n",
    "\n",
    "\n",
    "def flatten(list1):\n",
    "    flat_lst = []\n",
    "    for item in list1:\n",
    "        if isinstance(item, (list, set, tuple, dict)):\n",
    "            flat_lst.extend(flatten(item))\n",
    "        else:\n",
    "            flat_lst.append(item)\n",
    "    return flat_lst\n",
    "\n",
    "\n",
    "list1 = [1, 2, 3, 4, [44, 55, 66, True], False, (34, 56, 78, 89, 34), {1, 2, 3, 3, 2, 1}, {\n",
    "    1: 34, \"key2\": [55, 67, 78, 89], 4: (45, 22, 61, 34)}, [56, 'data science'], 'Machine Learning']\n",
    "print(product_of_numbers(list1))\n"
   ]
  },
  {
   "cell_type": "markdown",
   "id": "f8fc49bc-a0bd-4d0e-b6a1-4291a2a96bcb",
   "metadata": {},
   "source": [
    "## Q2. Write a python program for encrypting a message sent to you by your friend. The logic of encryption should be such that, for a the output should be z. For b, the output should be y. For c, the output should be x respectively. Also, the whitespace should be replaced with a dollar sign. Keep the punctuation marks unchanged.\n",
    "## Input Sentence: I want to become a Data Scientist.\n",
    "## Encrypt the above input sentence using the program you just created.\n",
    "## Note: Convert the given input sentence into lowercase before encrypting. The final output should be lowercase."
   ]
  },
  {
   "cell_type": "code",
   "execution_count": 2,
   "id": "2f1fbda2-f148-4518-9376-2a45792648ad",
   "metadata": {},
   "outputs": [
    {
     "name": "stdout",
     "output_type": "stream",
     "text": [
      "r$dzmg$gl$yvxlnv$z$wzgz$hxrvmgrhg.\n"
     ]
    }
   ],
   "source": [
    "def encrypt_message(message):\n",
    "    # Convert the message to lowercase\n",
    "    message = message.lower()\n",
    "    \n",
    "    # Create a translation table that maps each letter to its encrypted form\n",
    "    encryption_table = str.maketrans('abcdefghijklmnopqrstuvwxyz ', 'zyxwvutsrqponmlkjihgfedcba$')\n",
    "    \n",
    "    # Use the translation table to encrypt the message\n",
    "    encrypted_message = message.translate(encryption_table)\n",
    "    \n",
    "    # Return the encrypted message\n",
    "    return encrypted_message\n",
    "message = \"I want to become a Data Scientist.\"\n",
    "encrypted_message = encrypt_message(message)\n",
    "print(encrypted_message)\n"
   ]
  },
  {
   "cell_type": "code",
   "execution_count": null,
   "id": "42227161-2f09-474b-8faf-f818a8c3608c",
   "metadata": {},
   "outputs": [],
   "source": []
  }
 ],
 "metadata": {
  "kernelspec": {
   "display_name": "Python 3 (ipykernel)",
   "language": "python",
   "name": "python3"
  },
  "language_info": {
   "codemirror_mode": {
    "name": "ipython",
    "version": 3
   },
   "file_extension": ".py",
   "mimetype": "text/x-python",
   "name": "python",
   "nbconvert_exporter": "python",
   "pygments_lexer": "ipython3",
   "version": "3.10.8"
  }
 },
 "nbformat": 4,
 "nbformat_minor": 5
}
