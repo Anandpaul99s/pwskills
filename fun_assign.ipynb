{
 "cells": [
  {
   "cell_type": "markdown",
   "id": "6daf5785-106b-4fc7-875e-2287125845f0",
   "metadata": {},
   "source": [
    "## 1.Ans) We use def Keyword to create a function in python and we can call that function.\n",
    "##        Syntax for function:\n",
    "##        ->Creating a function\n",
    "##           def func_name(formal_parameters):\n",
    "##        ->Calling a function\n",
    "##           func_name(actual_parameters)\n",
    "## Example:Create a function to return a list of odd numbers in the range of 1 to 25."
   ]
  },
  {
   "cell_type": "code",
   "execution_count": 1,
   "id": "0e3f488e-d000-4221-8912-3e15d7364ebe",
   "metadata": {},
   "outputs": [
    {
     "name": "stdin",
     "output_type": "stream",
     "text": [
      " 25\n"
     ]
    },
    {
     "data": {
      "text/plain": [
       "[1, 3, 5, 7, 9, 11, 13, 15, 17, 19, 21, 23, 25]"
      ]
     },
     "execution_count": 1,
     "metadata": {},
     "output_type": "execute_result"
    }
   ],
   "source": [
    "def fun(l):\n",
    "    n=[]\n",
    "    for i in l:\n",
    "        if i%2!=0:\n",
    "           n.append(i)\n",
    "    return n\n",
    "n=int(input())\n",
    "l=list(range(1,n+1))\n",
    "fun(l)"
   ]
  },
  {
   "cell_type": "markdown",
   "id": "be1f35e7-3eff-4b59-85a4-5cc20f057542",
   "metadata": {},
   "source": [
    "## 2.Ans)We use *args and **kwargs as an argument when we are unsure about the number of arguments to pass in the functions.\n",
    "## Example:"
   ]
  },
  {
   "cell_type": "code",
   "execution_count": 2,
   "id": "342d4d54-b17f-4282-bc51-702f9d001e5c",
   "metadata": {},
   "outputs": [
    {
     "name": "stdout",
     "output_type": "stream",
     "text": [
      "(10, 20, 30)\n",
      "{'Name': 'Anand Paul', 'Course': 'Data Science', 'Enrolled': 'Yes'}\n",
      "<class 'tuple'>\n",
      "<class 'dict'>\n",
      "args value: 10\n",
      "args value: 20\n",
      "args value: 30\n",
      "Key: Name   Value: Anand Paul\n",
      "Key: Course   Value: Data Science\n",
      "Key: Enrolled   Value: Yes\n"
     ]
    }
   ],
   "source": [
    "def fun_1(*args,**kwargs):\n",
    "    print(args)\n",
    "    print(kwargs)\n",
    "    print(type(args))\n",
    "    print(type(kwargs))\n",
    "    for i in args:\n",
    "        print(\"args value:\",i)\n",
    "    for k,v in kwargs.items():\n",
    "        print(\"Key:\",k,\" \",\"Value:\",v)\n",
    "fun_1(10,20,30,Name=\"Anand Paul\",Course=\"Data Science\",Enrolled=\"Yes\")"
   ]
  },
  {
   "cell_type": "markdown",
   "id": "46e2e057-6803-4eeb-96c6-2d79df583a8b",
   "metadata": {},
   "source": [
    "## 3.Ans)An iterator is an object that can be iterated upon, meaning that you can traverse through all the values.\n",
    "## In Python, an iterator is an object which implements the iterator protocol, which consist of the methods __iter__() and __next__()\n",
    "## Lists, tuples, dictionaries, and sets are all iterable objects. They are iterable containers which you can get an iterator from.\n",
    "## All these objects have a iter() method which is used to get an iterator"
   ]
  },
  {
   "cell_type": "code",
   "execution_count": 3,
   "id": "87edb3dd-1ec9-4bde-bc2e-ff554c045212",
   "metadata": {},
   "outputs": [
    {
     "name": "stdout",
     "output_type": "stream",
     "text": [
      "2\n",
      "4\n",
      "6\n",
      "8\n",
      "10\n"
     ]
    }
   ],
   "source": [
    "list1=[2, 4, 6, 8, 10, 12, 14, 16,18, 20]\n",
    "myiter=iter(list1)\n",
    "print(next(myiter))\n",
    "print(next(myiter))\n",
    "print(next(myiter))\n",
    "print(next(myiter))\n",
    "print(next(myiter))"
   ]
  },
  {
   "cell_type": "markdown",
   "id": "b3eb9e42-31f1-4ac6-8a06-1f7d27bbf523",
   "metadata": {},
   "source": [
    "## 4.Ans)A generator-function is defined like a normal function, but whenever it needs to generate a value, it does so with the yield keyword rather than return. If the body of a def contains yield, the function automatically becomes a generator function. \n",
    "## ->yield keyword is used to create a generator function\n",
    "## Example:"
   ]
  },
  {
   "cell_type": "code",
   "execution_count": 4,
   "id": "5d40a3e4-ccc9-4cd2-ae8e-fa1a9f0cfb8e",
   "metadata": {},
   "outputs": [
    {
     "name": "stdout",
     "output_type": "stream",
     "text": [
      "0 1 1 2 3 5 8 13 21 34 "
     ]
    }
   ],
   "source": [
    "def test_fib(n):\n",
    "    a,b=0,1\n",
    "    for i in range(n): #run ntimes \n",
    "        yield a\n",
    "        a,b=b,a+b\n",
    "test_fib(10)\n",
    "for i in test_fib(10):\n",
    "    print(i,end=\" \")\n"
   ]
  },
  {
   "cell_type": "markdown",
   "id": "40556f45-391a-4527-b475-c7726f7591c4",
   "metadata": {},
   "source": [
    "## 5.Ans) Create a generator function for prime numbers less than 1000."
   ]
  },
  {
   "cell_type": "code",
   "execution_count": 14,
   "id": "aea70912-7ad8-4563-9161-d34081cb60ee",
   "metadata": {},
   "outputs": [
    {
     "data": {
      "text/plain": [
       "<generator object prime_numbers_generator at 0x7fbad6e342e0>"
      ]
     },
     "execution_count": 14,
     "metadata": {},
     "output_type": "execute_result"
    }
   ],
   "source": [
    "def prime_numbers_generator(n):\n",
    "    primes = []\n",
    "    for num in range(2, n):\n",
    "        for prime in primes:\n",
    "            if num % prime == 0:\n",
    "                break\n",
    "        else:\n",
    "            primes.append(num)\n",
    "            yield num\n",
    "prime_numbers_generator(1000)\n"
   ]
  },
  {
   "cell_type": "code",
   "execution_count": 15,
   "id": "4581a3bb-5071-4e7e-a7b3-753140d765ae",
   "metadata": {},
   "outputs": [
    {
     "name": "stdout",
     "output_type": "stream",
     "text": [
      "2\n",
      "3\n",
      "5\n",
      "7\n",
      "11\n",
      "13\n",
      "17\n",
      "19\n",
      "23\n"
     ]
    }
   ],
   "source": [
    "for prime in prime_numbers_generator(25):\n",
    "    print(prime)\n"
   ]
  },
  {
   "cell_type": "code",
   "execution_count": null,
   "id": "89be7de0-93e8-48c3-ab97-4b8385484cc0",
   "metadata": {},
   "outputs": [],
   "source": []
  }
 ],
 "metadata": {
  "kernelspec": {
   "display_name": "Python 3 (ipykernel)",
   "language": "python",
   "name": "python3"
  },
  "language_info": {
   "codemirror_mode": {
    "name": "ipython",
    "version": 3
   },
   "file_extension": ".py",
   "mimetype": "text/x-python",
   "name": "python",
   "nbconvert_exporter": "python",
   "pygments_lexer": "ipython3",
   "version": "3.10.8"
  }
 },
 "nbformat": 4,
 "nbformat_minor": 5
}
