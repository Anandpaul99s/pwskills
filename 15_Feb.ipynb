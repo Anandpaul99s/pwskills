{
 "cells": [
  {
   "cell_type": "markdown",
   "id": "a0187124-43f2-4692-9a7f-e9f14ecfc3f3",
   "metadata": {},
   "source": [
    "## Q1. What is multiprocessing in python? Why is it useful?"
   ]
  },
  {
   "cell_type": "markdown",
   "id": "2da7af2f-ea3b-49b6-b5db-2a798dac0361",
   "metadata": {},
   "source": [
    "Ans) Multiprocessing in Python is a module that enables the creation of multiple processes to run parallelly on different CPU cores, thus making use of the full potential of the system. It is useful for CPU-bound tasks, such as scientific computing, data analysis, and simulations, that require heavy processing and can be divided into smaller subtasks that can run concurrently. Multiprocessing can significantly improve the performance and speed of such tasks.\n"
   ]
  },
  {
   "cell_type": "markdown",
   "id": "540e5c28-a59f-4e9f-ba44-cd1a87d8ff88",
   "metadata": {},
   "source": [
    "## Q2. What are the differences between multiprocessing and multithreading?\n"
   ]
  },
  {
   "cell_type": "markdown",
   "id": "3a5979ef-ae24-44e7-9a59-ac959d1859e2",
   "metadata": {},
   "source": [
    "Ans) The main difference between multiprocessing and multithreading is that multiprocessing involves the use of multiple processes, each with its own memory space and resources, whereas multithreading involves multiple threads within a single process, all sharing the same memory space and resources. This means that multiprocessing can take full advantage of multi-core CPUs, whereas multithreading is suitable for I/O-bound tasks, such as web scraping, where multiple threads can work simultaneously without blocking each other."
   ]
  },
  {
   "cell_type": "markdown",
   "id": "7f59afb4-e86c-465d-91bd-94e93cd1c52a",
   "metadata": {},
   "source": [
    "## Q3. Write a python code to create a process using the multiprocessing module."
   ]
  },
  {
   "cell_type": "code",
   "execution_count": 4,
   "id": "9fcc84ca-bc04-4228-9df4-c245204d8b47",
   "metadata": {},
   "outputs": [
    {
     "name": "stdout",
     "output_type": "stream",
     "text": [
      "This is a child process\n"
     ]
    }
   ],
   "source": [
    "import multiprocessing\n",
    "\n",
    "def process_func():\n",
    "    print(\"This is a child process\")\n",
    "\n",
    "if __name__ == '__main__':\n",
    "    p = multiprocessing.Process(target=process_func)\n",
    "    p.start()\n",
    "    p.join()\n"
   ]
  },
  {
   "cell_type": "markdown",
   "id": "8f6289a9-944e-42ba-8652-5ea4acf096c8",
   "metadata": {},
   "source": [
    "\n",
    "## Q4. What is a multiprocessing pool in python? Why is it used?\n"
   ]
  },
  {
   "cell_type": "markdown",
   "id": "69a5a72a-5a7f-4393-8ca0-03b4e1b2ac94",
   "metadata": {},
   "source": [
    "Ans) A multiprocessing pool in Python is a way to create a group of worker processes that can work on a task in parallel. It is useful for distributing tasks among a fixed number of worker processes and managing the communication between them. The pool manages a queue of tasks and distributes them to the worker processes as they become available, thus optimizing the use of system resources and improving the efficiency of the task execution."
   ]
  },
  {
   "cell_type": "markdown",
   "id": "0cbfcd64-e75f-443e-8e8f-ecee90bc3e51",
   "metadata": {},
   "source": [
    "## Q5. How can we create a pool of worker processes in python using the multiprocessing module?\n",
    "Ans) We can create a pool of worker processes in Python using the multiprocessing module by following these steps:\n",
    "\n",
    "Import the multiprocessing module.\n",
    "Define a function that represents the task that each worker process will perform.\n",
    "Create a list of tasks that need to be performed.\n",
    "Create a Pool object with the desired number of worker processes.\n",
    "Use the map() method of the Pool object to distribute the tasks among the worker processes.\n",
    "Collect the results from the worker processes.\n",
    "Here's an example code snippet that demonstrates how to create a pool of worker processes in Python using the multiprocessing module:"
   ]
  },
  {
   "cell_type": "code",
   "execution_count": 8,
   "id": "7b7496cf-0686-46f3-a62e-46d40e512667",
   "metadata": {},
   "outputs": [
    {
     "name": "stdout",
     "output_type": "stream",
     "text": [
      "[1, 4, 9, 16, 25]\n"
     ]
    }
   ],
   "source": [
    "import multiprocessing\n",
    "\n",
    "# Define the task that each worker process will perform\n",
    "def square(number):\n",
    "    return number ** 2\n",
    "\n",
    "if __name__ == '__main__':\n",
    "    # Create a list of tasks\n",
    "    numbers = [1, 2, 3, 4, 5]\n",
    "\n",
    "    # Create a Pool object with 4 worker processes\n",
    "    with multiprocessing.Pool(processes=4) as pool:\n",
    "        # Distribute the tasks among the worker processes using the map() method\n",
    "        results = pool.map(square, numbers)\n",
    "\n",
    "    # Collect the results from the worker processes\n",
    "    print(results)\n"
   ]
  },
  {
   "cell_type": "markdown",
   "id": "93318f01-d503-4f40-b06d-7656175cfbcd",
   "metadata": {},
   "source": [
    "\n",
    "## Q6. Write a python program to create 4 processes, each process should print a different number using the multiprocessing module in python."
   ]
  },
  {
   "cell_type": "code",
   "execution_count": 6,
   "id": "98c44909-14df-4f8e-bd7c-8fcf228a1ae9",
   "metadata": {},
   "outputs": [
    {
     "name": "stdout",
     "output_type": "stream",
     "text": [
      "Process 1: 1\n",
      "Process 2: 2\n",
      "Process 3: 3\n",
      "Process 4: 4\n"
     ]
    }
   ],
   "source": [
    "import multiprocessing\n",
    "\n",
    "def print_number(num):\n",
    "    print(f\"Process {num}: {num}\")\n",
    "\n",
    "if __name__ == '__main__':\n",
    "    processes = []\n",
    "    for i in range(1, 5):\n",
    "        p = multiprocessing.Process(target=print_number, args=(i,))\n",
    "        processes.append(p)\n",
    "        p.start()\n",
    "    \n",
    "    for p in processes:\n",
    "        p.join()\n"
   ]
  },
  {
   "cell_type": "code",
   "execution_count": null,
   "id": "bd13a2c8-857c-4171-82a9-020095380916",
   "metadata": {},
   "outputs": [],
   "source": []
  }
 ],
 "metadata": {
  "kernelspec": {
   "display_name": "Python 3 (ipykernel)",
   "language": "python",
   "name": "python3"
  },
  "language_info": {
   "codemirror_mode": {
    "name": "ipython",
    "version": 3
   },
   "file_extension": ".py",
   "mimetype": "text/x-python",
   "name": "python",
   "nbconvert_exporter": "python",
   "pygments_lexer": "ipython3",
   "version": "3.10.8"
  }
 },
 "nbformat": 4,
 "nbformat_minor": 5
}
