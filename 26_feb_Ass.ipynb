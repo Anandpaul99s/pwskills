{
 "cells": [
  {
   "cell_type": "markdown",
   "id": "f9d3c30c-9c9b-488e-ba96-6240596a9f19",
   "metadata": {},
   "source": [
    "## Q1. Is there any difference in the data type of variables list_ and array_list? If there is then write a code to print the data types of both the variables."
   ]
  },
  {
   "cell_type": "markdown",
   "id": "080df2a2-6b85-4696-b6e3-e3421399506b",
   "metadata": {},
   "source": [
    "## Ans)In Python, the data type of a variable is determined dynamically based on the value assigned to it. However, it is possible to create a list and an array using different data types.\n",
    "## Here is an example code to demonstrate the difference in data types between a list and an array list: In this code, we are using the NumPy library to create an array list. The type() function is used to print the data type of both variables."
   ]
  },
  {
   "cell_type": "code",
   "execution_count": 3,
   "id": "417d9021-1261-4e9c-a45d-8c865d955a49",
   "metadata": {},
   "outputs": [
    {
     "name": "stdout",
     "output_type": "stream",
     "text": [
      "<class 'list'>\n",
      "<class 'numpy.ndarray'>\n"
     ]
    }
   ],
   "source": [
    "import numpy as np\n",
    "list_ = [ '1','2','3','4','5' ]\n",
    "array_list = np.array(object = list_)\n",
    "# Printing the data types of both variables\n",
    "print(type(list_))\n",
    "print(type(array_list))"
   ]
  },
  {
   "cell_type": "markdown",
   "id": "b6520a6d-c2f9-4c44-a391-a5b2893e2046",
   "metadata": {},
   "source": [
    "## Q2) Write a code to print the data type of each and every element of both the variables list_ and arra_list."
   ]
  },
  {
   "cell_type": "code",
   "execution_count": 4,
   "id": "e2a36a32-1c64-4f4c-b6c9-fe2fbac10c20",
   "metadata": {},
   "outputs": [
    {
     "name": "stdout",
     "output_type": "stream",
     "text": [
      "<class 'str'>\n",
      "<class 'str'>\n",
      "<class 'str'>\n",
      "<class 'str'>\n",
      "<class 'str'>\n",
      "<class 'numpy.str_'>\n",
      "<class 'numpy.str_'>\n",
      "<class 'numpy.str_'>\n",
      "<class 'numpy.str_'>\n",
      "<class 'numpy.str_'>\n"
     ]
    }
   ],
   "source": [
    "list_ = [ '1','2','3','4','5' ]\n",
    "array_list = np.array(object = list_)\n",
    "for ele in list_:\n",
    "    print(type(ele))\n",
    "for ele1 in array_list:\n",
    "    print(type(ele1))"
   ]
  },
  {
   "cell_type": "markdown",
   "id": "5e2a1ba9-00ec-40e0-b8e2-7018c8adebe8",
   "metadata": {},
   "source": [
    "## Q3. Considering the following changes in the variable, array_list:\n",
    "array_list = np.array(object = list_, dtype = int)\n",
    "\n",
    "Will there be any difference in the data type of the elements present in both the variables, list_ and\n",
    "arra_list? If so then print the data types of each and every element present in both the variables, list_\n",
    "and arra_list."
   ]
  },
  {
   "cell_type": "markdown",
   "id": "92cbc8f8-8689-41ca-8c6c-9b04eaa85a0c",
   "metadata": {},
   "source": [
    "## Ans) Yes, there will be a difference in the data type of the elements present in list_ and array_list after the following change: array_list = np.array(object = list_, dtype = int)\n",
    "## This code creates a new numpy array array_list from the existing list list_, with data type as int. The dtype parameter specifies the data type of the new array, which in this case is int.To print the data types of each and every element present in both list_ and array_list, we can use the same approach as before, i.e., use a loop to iterate over each element and use the type() function to get the data type of that element. Here's an example code"
   ]
  },
  {
   "cell_type": "code",
   "execution_count": 5,
   "id": "d38a1e22-2496-424e-be22-3a6f8afcac3a",
   "metadata": {},
   "outputs": [
    {
     "name": "stdout",
     "output_type": "stream",
     "text": [
      "<class 'str'>\n",
      "<class 'str'>\n",
      "<class 'str'>\n",
      "<class 'str'>\n",
      "<class 'str'>\n",
      "<class 'numpy.int64'>\n",
      "<class 'numpy.int64'>\n",
      "<class 'numpy.int64'>\n",
      "<class 'numpy.int64'>\n",
      "<class 'numpy.int64'>\n"
     ]
    }
   ],
   "source": [
    "list_ = [ '1','2','3','4','5' ]\n",
    "array_list=np.array(object=list_,dtype=int)\n",
    "for ele in list_:\n",
    "    print(type(ele))\n",
    "for ele1 in array_list:\n",
    "    print(type(ele1))"
   ]
  },
  {
   "cell_type": "markdown",
   "id": "3c240673-f432-4258-b330-b635295ae92d",
   "metadata": {},
   "source": [
    "## Q4. Write a code to find the following characteristics of variable, num_array:\n",
    "## (i) shape\n",
    "## (ii) size"
   ]
  },
  {
   "cell_type": "markdown",
   "id": "82aa2c94-dd8e-4c00-bf0e-70089784c72c",
   "metadata": {},
   "source": [
    "## Ans)To find the shape and size of the numpy array num_array, we can use the shape and size attributes of the array"
   ]
  },
  {
   "cell_type": "code",
   "execution_count": 6,
   "id": "c0bf5747-c7f4-4a0f-bf5e-b0bedfbc73fe",
   "metadata": {},
   "outputs": [
    {
     "name": "stdout",
     "output_type": "stream",
     "text": [
      "Shape of num_array: (2, 3)\n",
      "Size of num_array: 6\n"
     ]
    }
   ],
   "source": [
    "num_list = [ [ 1 , 2 , 3 ] , [ 4 , 5 , 6 ] ]\n",
    "num_array = np.array(object = num_list)\n",
    "# Find the shape of the array\n",
    "print(\"Shape of num_array:\", num_array.shape)\n",
    "\n",
    "# Find the size of the array\n",
    "print(\"Size of num_array:\", num_array.size)"
   ]
  },
  {
   "cell_type": "markdown",
   "id": "823f20c9-ddec-4537-91cd-d5884765a265",
   "metadata": {},
   "source": [
    "## Q5) Write a code to create numpy array of 3*3 matrix containing zeros only, using a numpy array creation function.\n",
    "## [Hint: The size of the array will be 9 and the shape will be (3,3).]"
   ]
  },
  {
   "cell_type": "code",
   "execution_count": 8,
   "id": "59265f6d-9186-4438-b744-c4bc7f2d1c3b",
   "metadata": {},
   "outputs": [
    {
     "name": "stdout",
     "output_type": "stream",
     "text": [
      "[[0. 0. 0.]\n",
      " [0. 0. 0.]\n",
      " [0. 0. 0.]]\n"
     ]
    }
   ],
   "source": [
    "import numpy as np\n",
    "\n",
    "# Creating a 3x3 numpy array containing zeros only\n",
    "zeros_array = np.zeros(shape=(3, 3))\n",
    "\n",
    "# Printing the array\n",
    "print(zeros_array)"
   ]
  },
  {
   "cell_type": "markdown",
   "id": "eb91d900-546d-4fa0-b3cd-5dd248c0c217",
   "metadata": {},
   "source": [
    "## Q6. Create an identity matrix of shape (5,5) using numpy functions?\n",
    "## [Hint: An identity matrix is a matrix containing 1 diagonally and other elements will be 0.]"
   ]
  },
  {
   "cell_type": "code",
   "execution_count": 10,
   "id": "8eebf97f-7e05-46b5-9fa0-f7d1a487cb86",
   "metadata": {},
   "outputs": [
    {
     "name": "stdout",
     "output_type": "stream",
     "text": [
      "[[1. 0. 0. 0. 0.]\n",
      " [0. 1. 0. 0. 0.]\n",
      " [0. 0. 1. 0. 0.]\n",
      " [0. 0. 0. 1. 0.]\n",
      " [0. 0. 0. 0. 1.]]\n"
     ]
    }
   ],
   "source": [
    "import numpy as np\n",
    "\n",
    "# Creating a 5x5 identity matrix\n",
    "identity_matrix = np.identity(n=5)\n",
    "\n",
    "# Printing the matrix\n",
    "print(identity_matrix)"
   ]
  },
  {
   "cell_type": "code",
   "execution_count": null,
   "id": "29c217ce-449d-4572-adfb-dc5ba0d3ce10",
   "metadata": {},
   "outputs": [],
   "source": []
  }
 ],
 "metadata": {
  "kernelspec": {
   "display_name": "Python 3 (ipykernel)",
   "language": "python",
   "name": "python3"
  },
  "language_info": {
   "codemirror_mode": {
    "name": "ipython",
    "version": 3
   },
   "file_extension": ".py",
   "mimetype": "text/x-python",
   "name": "python",
   "nbconvert_exporter": "python",
   "pygments_lexer": "ipython3",
   "version": "3.10.8"
  }
 },
 "nbformat": 4,
 "nbformat_minor": 5
}
