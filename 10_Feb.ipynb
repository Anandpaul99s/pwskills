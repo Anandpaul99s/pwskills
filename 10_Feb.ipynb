{
 "cells": [
  {
   "cell_type": "markdown",
   "id": "7bc7a7bf-5b1f-40d5-928d-862fb02904c3",
   "metadata": {},
   "source": [
    "Q1. Which function is used to open a file? What are the different modes of opening a file? Explain each mode\n",
    "of file opening.\n"
   ]
  },
  {
   "cell_type": "markdown",
   "id": "95e2d6db-222e-442f-b8af-8a1133eafd52",
   "metadata": {},
   "source": [
    "Ans) \n",
    " The open() function is used to open a file. The different modes of opening a file are:\n",
    "\n",
    "\t'r' (read): The file is opened for reading (default).\n",
    "\t'w' (write): The file is opened for writing. If the file already exists, its contents are truncated. If it doesn't exist, a new file is created.\n",
    "\t'a' (append): The file is opened for writing, but new data is appended to the end of the file instead of overwriting existing data.\n",
    "\t'x' (exclusive creation): The file is opened for writing, but only if it doesn't already exist. If the file exists, a FileExistsError is raised.\n",
    "\t'b' (binary): The file is opened in binary mode.\n",
    "\t't' (text): The file is opened in text mode (default)."
   ]
  },
  {
   "cell_type": "markdown",
   "id": "658003f2-bc06-4bf6-b884-eaf88560b089",
   "metadata": {},
   "source": [
    "## Q2. Why close() function is used? Why is it important to close a file?\n"
   ]
  },
  {
   "cell_type": "markdown",
   "id": "b74f6af1-dd39-4891-a24e-e44349adc73e",
   "metadata": {},
   "source": [
    "Ans) The close() function is used to close a file. It is important to close a file to free up system resources and ensure that all data is written to the file."
   ]
  },
  {
   "cell_type": "markdown",
   "id": "4796caed-da53-4908-b45b-2e27d4ff760e",
   "metadata": {},
   "source": [
    "## Q3. Write a python program to create a text file. Write ‘I want to become a Data Scientist’ in that file. Then close the file. Open this file and read the content of the file.\n"
   ]
  },
  {
   "cell_type": "code",
   "execution_count": 2,
   "id": "fcf885f9-7887-42d0-b7b0-13b142229dd7",
   "metadata": {},
   "outputs": [
    {
     "name": "stdout",
     "output_type": "stream",
     "text": [
      "I want to become a Data Scientist\n"
     ]
    }
   ],
   "source": [
    "# Open file for writing\n",
    "file = open(\"data.txt\", \"w\")\n",
    "# Write text to file\n",
    "file.write(\"I want to become a Data Scientist\")\n",
    "# Close file\n",
    "file.close()\n",
    "\n",
    "# Open file for reading\n",
    "file = open(\"data.txt\", \"r\")\n",
    "# Read contents of file\n",
    "contents = file.read()\n",
    "# Close file\n",
    "file.close()\n",
    "\n",
    "# Print contents of file\n",
    "print(contents)\n"
   ]
  },
  {
   "cell_type": "markdown",
   "id": "087ab20f-831e-4a77-a435-3c3bb634c7d9",
   "metadata": {},
   "source": [
    "\n",
    "## Q4. Explain the following with python code: read(), readline() and readlines().\n"
   ]
  },
  {
   "cell_type": "markdown",
   "id": "848955ce-e3f6-4f79-b72a-3fe579380d83",
   "metadata": {},
   "source": [
    "Ans) The read() function reads the entire content of a file as a single string. The readline() function reads a single line from the file and returns it as a string. The readlines() function reads all the lines of a file and returns them as a list of strings. Here's an example"
   ]
  },
  {
   "cell_type": "code",
   "execution_count": 3,
   "id": "4c2a041d-941d-4478-ba0e-31b8c399fe4d",
   "metadata": {},
   "outputs": [
    {
     "name": "stdout",
     "output_type": "stream",
     "text": [
      "I want to become a Data Scientist\n",
      "\n",
      "[]\n"
     ]
    }
   ],
   "source": [
    "# Open file for reading\n",
    "file = open(\"data.txt\", \"r\")\n",
    "# Read entire file contents\n",
    "contents = file.read()\n",
    "print(contents)\n",
    "# Read first line of file\n",
    "line1 = file.readline()\n",
    "print(line1)\n",
    "# Read all lines of file\n",
    "lines = file.readlines()\n",
    "print(lines)\n",
    "# Close file\n",
    "file.close()\n"
   ]
  },
  {
   "cell_type": "markdown",
   "id": "f07fa11b-c711-4b49-aa14-a33b85b9e072",
   "metadata": {},
   "source": [
    "## Q5. Explain why with statement is used with open(). What is the advantage of using with statement and open() together?\n"
   ]
  },
  {
   "cell_type": "markdown",
   "id": "857ec431-d5f4-4751-92b9-6c0ba46af957",
   "metadata": {},
   "source": [
    "Ans) The with statement is used with open() to ensure that the file is automatically closed when the block of code is exited, even if an exception is raised. The advantage of using with statement and open() together is that it simplifies the code and makes it more readable, and also ensures that the file is properly closed without needing to explicitly call close(). Here's an example"
   ]
  },
  {
   "cell_type": "code",
   "execution_count": 4,
   "id": "8b9c7bf4-3a2d-40a2-9776-3576d57b1950",
   "metadata": {},
   "outputs": [
    {
     "name": "stdout",
     "output_type": "stream",
     "text": [
      "I want to become a Data Scientist\n"
     ]
    }
   ],
   "source": [
    "with open(\"data.txt\", \"r\") as file:\n",
    "    contents = file.read()\n",
    "print(contents)\n"
   ]
  },
  {
   "cell_type": "markdown",
   "id": "2e7c1a03-7731-4bf4-a027-a08d46c19892",
   "metadata": {},
   "source": [
    "## Q6. Explain the write() and writelines() functions. Give a suitable example."
   ]
  },
  {
   "cell_type": "markdown",
   "id": "d7b031ab-b1a6-4233-aaa5-eed633148ed4",
   "metadata": {},
   "source": [
    "The write() function is used to write a string to a file, while the writelines() function is used to write a list of strings to a file. Here's an example"
   ]
  },
  {
   "cell_type": "code",
   "execution_count": 5,
   "id": "0ef2f09c-73ab-46b2-b84d-9a62d9fb37c0",
   "metadata": {},
   "outputs": [],
   "source": [
    "# Open file for writing\n",
    "file = open(\"data.txt\", \"w\")\n",
    "# Write a string to file\n",
    "file.write(\"Hello world\\n\")\n",
    "# Write a list of strings to file\n",
    "lines = [\"Line 1\\n\", \"Line 2\\n\", \"Line 3\\n\"]\n",
    "file.writelines(lines)\n",
    "# Close file\n",
    "file.close()\n"
   ]
  },
  {
   "cell_type": "code",
   "execution_count": null,
   "id": "cea0b421-dadf-4bbe-96e6-8dab659864f0",
   "metadata": {},
   "outputs": [],
   "source": []
  }
 ],
 "metadata": {
  "kernelspec": {
   "display_name": "Python 3 (ipykernel)",
   "language": "python",
   "name": "python3"
  },
  "language_info": {
   "codemirror_mode": {
    "name": "ipython",
    "version": 3
   },
   "file_extension": ".py",
   "mimetype": "text/x-python",
   "name": "python",
   "nbconvert_exporter": "python",
   "pygments_lexer": "ipython3",
   "version": "3.10.8"
  }
 },
 "nbformat": 4,
 "nbformat_minor": 5
}
