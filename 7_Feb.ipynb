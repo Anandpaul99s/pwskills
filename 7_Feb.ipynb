{
 "cells": [
  {
   "cell_type": "markdown",
   "id": "5c55fff0-a0e5-4a1f-8e99-e6bdc3838ac0",
   "metadata": {},
   "source": [
    "## Q1. You are writing code for a company. The requirement of the company is that you create a python function that will check whether the password entered by the user is correct or not. The function should take the password as input and return the string “Valid Password” if the entered password follows the below-given password guidelines else it should return “Invalid Password”."
   ]
  },
  {
   "cell_type": "code",
   "execution_count": 3,
   "id": "4a3c9e1d-51a9-47de-967d-f1d764d3e15e",
   "metadata": {},
   "outputs": [
    {
     "data": {
      "text/plain": [
       "'Valid Password'"
      ]
     },
     "execution_count": 3,
     "metadata": {},
     "output_type": "execute_result"
    }
   ],
   "source": [
    "def check_password(password):\n",
    "    \"\"\"\n",
    "    Checks whether the password meets the guidelines.\n",
    "\n",
    "    Parameters:\n",
    "    password (str): The password to check.\n",
    "\n",
    "    Returns:\n",
    "    str: \"Valid Password\" if the password meets the guidelines, \"Invalid Password\" otherwise.\n",
    "    \"\"\"\n",
    "    # Check length\n",
    "    if len(password) < 8:\n",
    "        return \"Invalid Password\"\n",
    "\n",
    "    # Check for lowercase letters\n",
    "    if not any(c.islower() for c in password):\n",
    "        return \"Invalid Password\"\n",
    "\n",
    "    # Check for uppercase letters\n",
    "    if not any(c.isupper() for c in password):\n",
    "        return \"Invalid Password\"\n",
    "\n",
    "    # Check for digits\n",
    "    if not any(c.isdigit() for c in password):\n",
    "        return \"Invalid Password\"\n",
    "\n",
    "    # Check for special characters\n",
    "    special_chars = \"!@#$%^&*()-+\"\n",
    "    if not any(c in special_chars for c in password):\n",
    "        return \"Invalid Password\"\n",
    "\n",
    "    # If all checks pass, return \"Valid Password\"\n",
    "    return \"Valid Password\"\n",
    "password='ABaa@1234#!'\n",
    "check_password(password)"
   ]
  },
  {
   "cell_type": "markdown",
   "id": "7dab464f-20a2-4289-8a7e-e5018ed90bab",
   "metadata": {},
   "source": [
    "## Q2. Solve the below-given questions using at least one of the following:\n",
    "1. Lambda function\n",
    "2. Filter function\n",
    "3. Zap function\n",
    "4. List Comprehension\n",
    "\n",
    "B Check if the string starts with a particular letter\n",
    "\n",
    "B Check if the string is numeric\n",
    "\n",
    "B Sort a list of tuples having fruit names and their quantity. [(\"mango\",99),(\"orange\",80), (\"grapes\", 1000)-\n",
    "\n",
    "B Find the squares of numbers from 1 to 10\n",
    "\n",
    "B Find the cube root of numbers from 1 to 10\n",
    "\n",
    "B Check if a given number is even\n",
    "\n",
    "B Filter odd numbers from the given list.\n",
    "[1,2,3,4,5,6,7,8,9,10]\n",
    "\n",
    "B Sort a list of integers into positive and negative integers lists.\n",
    "[1,2,3,4,5,6,-1,-2,-3,-4,-5,0]"
   ]
  },
  {
   "cell_type": "code",
   "execution_count": 4,
   "id": "81d6b830-9b96-4c0d-80a6-67d4fa2b30a6",
   "metadata": {},
   "outputs": [
    {
     "name": "stdout",
     "output_type": "stream",
     "text": [
      "['banana']\n"
     ]
    }
   ],
   "source": [
    "##Check if the string starts with a particular letter:\n",
    "##Using a lambda function:\n",
    "strings = [\"apple\", \"banana\", \"cherry\", \"durian\"]\n",
    "letter = \"b\"\n",
    "filtered_strings = list(filter(lambda s: s.startswith(letter), strings))\n",
    "print(filtered_strings)"
   ]
  },
  {
   "cell_type": "code",
   "execution_count": 5,
   "id": "4a101035-adfe-4d47-b35b-23f6a3a02d47",
   "metadata": {},
   "outputs": [
    {
     "name": "stdout",
     "output_type": "stream",
     "text": [
      "['123']\n"
     ]
    }
   ],
   "source": [
    "##Check if the string is numeric:\n",
    "## Using a lambda function:\n",
    "strings = [\"123\", \"456.78\", \"abc\"]\n",
    "filtered_strings = list(filter(lambda s: s.isnumeric(), strings))\n",
    "print(filtered_strings)\n"
   ]
  },
  {
   "cell_type": "code",
   "execution_count": 6,
   "id": "9aa1b126-48ac-4a6e-9a71-978bd4c76895",
   "metadata": {},
   "outputs": [
    {
     "name": "stdout",
     "output_type": "stream",
     "text": [
      "[('orange', 80), ('mango', 99), ('grapes', 1000)]\n"
     ]
    }
   ],
   "source": [
    "## Sort a list of tuples having fruit names and their quantity:\n",
    "## Using lambda function and sorted():\n",
    "fruits = [(\"mango\", 99), (\"orange\", 80), (\"grapes\", 1000)]\n",
    "sorted_fruits = sorted(fruits, key=lambda f: f[1])\n",
    "print(sorted_fruits)\n"
   ]
  },
  {
   "cell_type": "code",
   "execution_count": 7,
   "id": "521031d9-2dab-47ae-ad4f-670914ae5e0e",
   "metadata": {},
   "outputs": [
    {
     "name": "stdout",
     "output_type": "stream",
     "text": [
      "[1, 4, 9, 16, 25, 36, 49, 64, 81, 100]\n"
     ]
    }
   ],
   "source": [
    "## Find the squares of numbers from 1 to 10:\n",
    "## Using list comprehension:\n",
    "squares = [x**2 for x in range(1, 11)]\n",
    "print(squares)\n"
   ]
  },
  {
   "cell_type": "code",
   "execution_count": null,
   "id": "6c9f1b89-1124-4361-9f81-ac812f71912a",
   "metadata": {},
   "outputs": [],
   "source": [
    "## "
   ]
  }
 ],
 "metadata": {
  "kernelspec": {
   "display_name": "Python 3 (ipykernel)",
   "language": "python",
   "name": "python3"
  },
  "language_info": {
   "codemirror_mode": {
    "name": "ipython",
    "version": 3
   },
   "file_extension": ".py",
   "mimetype": "text/x-python",
   "name": "python",
   "nbconvert_exporter": "python",
   "pygments_lexer": "ipython3",
   "version": "3.10.8"
  }
 },
 "nbformat": 4,
 "nbformat_minor": 5
}
