{
 "cells": [
  {
   "cell_type": "code",
   "execution_count": 1,
   "id": "aef925b7-27ad-4025-878a-4f2d53b7fe3c",
   "metadata": {},
   "outputs": [],
   "source": [
    "def test(a,b):\n",
    "    return a+b\n"
   ]
  },
  {
   "cell_type": "code",
   "execution_count": 2,
   "id": "0009d2ee-0369-4c4e-8f92-c8160f5453cb",
   "metadata": {},
   "outputs": [
    {
     "data": {
      "text/plain": [
       "9"
      ]
     },
     "execution_count": 2,
     "metadata": {},
     "output_type": "execute_result"
    }
   ],
   "source": [
    "test(4,5)"
   ]
  },
  {
   "cell_type": "code",
   "execution_count": 3,
   "id": "e408de40-6563-4f35-a850-c890e14028ee",
   "metadata": {},
   "outputs": [
    {
     "data": {
      "text/plain": [
       "'AnandPaul'"
      ]
     },
     "execution_count": 3,
     "metadata": {},
     "output_type": "execute_result"
    }
   ],
   "source": [
    "test(\"Anand\",\"Paul\")"
   ]
  },
  {
   "cell_type": "code",
   "execution_count": 4,
   "id": "7664a757-526e-44b4-9e77-7a4ac931a732",
   "metadata": {},
   "outputs": [
    {
     "data": {
      "text/plain": [
       "[1, 2, 3, 4, 5, 6]"
      ]
     },
     "execution_count": 4,
     "metadata": {},
     "output_type": "execute_result"
    }
   ],
   "source": [
    "test([1,2,3],[4,5,6])"
   ]
  },
  {
   "cell_type": "code",
   "execution_count": 10,
   "id": "309a6813-9721-4b36-957a-60737d40425a",
   "metadata": {
    "tags": []
   },
   "outputs": [],
   "source": [
    "class data_science:\n",
    "    def syllbass(self):\n",
    "        print(\"this is my method for my ds syllbass\")"
   ]
  },
  {
   "cell_type": "code",
   "execution_count": 11,
   "id": "f2b2ee81-4dbd-499c-8cd9-6f12f20aea7f",
   "metadata": {},
   "outputs": [],
   "source": [
    "class web_dev :\n",
    "    def syllbass(self):\n",
    "        print(\"this is my method for web dev\")"
   ]
  },
  {
   "cell_type": "markdown",
   "id": "4b1844a9-fda3-45f6-9526-64a621cfc730",
   "metadata": {},
   "source": [
    "## achieved polymorphism"
   ]
  },
  {
   "cell_type": "code",
   "execution_count": 41,
   "id": "238a2ce7-ca73-44a0-9d98-355898aac223",
   "metadata": {},
   "outputs": [],
   "source": [
    "def class_parser(class_obj):\n",
    "    for i in class_obj:\n",
    "        i.syllbass()"
   ]
  },
  {
   "cell_type": "code",
   "execution_count": 42,
   "id": "21b18366-8ff5-4df1-9a92-d1bd2875d15f",
   "metadata": {},
   "outputs": [],
   "source": [
    "obj_data_science=data_science()"
   ]
  },
  {
   "cell_type": "code",
   "execution_count": 43,
   "id": "4a6b7ff6-ac3a-47e9-b7ea-ca9af73671a1",
   "metadata": {},
   "outputs": [],
   "source": [
    "obj_web_dev=web_dev()"
   ]
  },
  {
   "cell_type": "code",
   "execution_count": 44,
   "id": "510ca48b-2727-4c63-b39a-8a7249d2e58b",
   "metadata": {},
   "outputs": [],
   "source": [
    "class_obj=[obj_data_science,obj_web_dev]"
   ]
  },
  {
   "cell_type": "code",
   "execution_count": 45,
   "id": "b167a21d-eb67-42b6-944a-f2c6fac5e722",
   "metadata": {},
   "outputs": [
    {
     "name": "stdout",
     "output_type": "stream",
     "text": [
      "this is my method for my ds syllbass\n",
      "this is my method for web dev\n"
     ]
    }
   ],
   "source": [
    "class_parser(class_obj)"
   ]
  },
  {
   "cell_type": "markdown",
   "id": "7bb4dbf0-0d6e-4684-b948-0d7fc2dcad8b",
   "metadata": {},
   "source": [
    "## encapsulation"
   ]
  },
  {
   "cell_type": "code",
   "execution_count": null,
   "id": "50b1f853-23e5-425f-b3da-649597706a97",
   "metadata": {},
   "outputs": [],
   "source": [
    "class test:\n",
    "    def __init__(self,a,b):\n",
    "        self.a=a\n",
    "        self.b=b\n",
    "        "
   ]
  },
  {
   "cell_type": "code",
   "execution_count": 53,
   "id": "9ab718c3-7a08-43de-8606-b7bf07ac9318",
   "metadata": {},
   "outputs": [],
   "source": [
    "t=test(45,46)"
   ]
  },
  {
   "cell_type": "code",
   "execution_count": 54,
   "id": "556625ef-fa78-4359-9e5e-c828c24c44bb",
   "metadata": {},
   "outputs": [
    {
     "data": {
      "text/plain": [
       "45"
      ]
     },
     "execution_count": 54,
     "metadata": {},
     "output_type": "execute_result"
    }
   ],
   "source": [
    "t.a"
   ]
  },
  {
   "cell_type": "code",
   "execution_count": 55,
   "id": "bb51691a-fdff-4e46-b071-49cf13cf4dec",
   "metadata": {},
   "outputs": [
    {
     "data": {
      "text/plain": [
       "46"
      ]
     },
     "execution_count": 55,
     "metadata": {},
     "output_type": "execute_result"
    }
   ],
   "source": [
    "t.b"
   ]
  },
  {
   "cell_type": "code",
   "execution_count": 56,
   "id": "14b3f4ad-9eb5-4d2a-9f47-afbbee31a18d",
   "metadata": {},
   "outputs": [],
   "source": [
    "t.a=12345"
   ]
  },
  {
   "cell_type": "code",
   "execution_count": 57,
   "id": "cc27bcef-38c9-404b-b37f-dcc2469023c4",
   "metadata": {},
   "outputs": [
    {
     "data": {
      "text/plain": [
       "12345"
      ]
     },
     "execution_count": 57,
     "metadata": {},
     "output_type": "execute_result"
    }
   ],
   "source": [
    "t.a"
   ]
  },
  {
   "cell_type": "markdown",
   "id": "e897f86c-1631-470a-97a8-f3f6bd3066a8",
   "metadata": {},
   "source": [
    "## encapsulation is an idea will allow us to prevent any kind of direct acess or direct modification of data in oops __year =>private cannot be accesed by othe"
   ]
  },
  {
   "cell_type": "code",
   "execution_count": 29,
   "id": "a4e518ec-32c8-4df9-95b4-cce534213710",
   "metadata": {},
   "outputs": [],
   "source": [
    "class car:\n",
    "    def __init__(self,year,make,model,speed):\n",
    "        self.__year =year\n",
    "        self.__make =make\n",
    "        self.__model =model\n",
    "        self.__speed =0\n",
    "    def set_speed(self,speed):\n",
    "        self.__speed=0 if speed<0 else speed\n",
    "    def get_speed(self):\n",
    "        return self.__speed"
   ]
  },
  {
   "cell_type": "code",
   "execution_count": 39,
   "id": "cd1c7770-5e8b-4e98-8131-9dc97bfb8ae3",
   "metadata": {},
   "outputs": [
    {
     "data": {
      "text/plain": [
       "12345"
      ]
     },
     "execution_count": 39,
     "metadata": {},
     "output_type": "execute_result"
    }
   ],
   "source": [
    "obj_car.get_speed()"
   ]
  },
  {
   "cell_type": "code",
   "execution_count": 30,
   "id": "8ee46f8b-eb48-4b3b-a63d-6067e1983e0e",
   "metadata": {},
   "outputs": [],
   "source": [
    "obj_car.set_speed(-1234)"
   ]
  },
  {
   "cell_type": "code",
   "execution_count": null,
   "id": "3f67c33e-8bea-4429-91eb-b2170a60580c",
   "metadata": {},
   "outputs": [],
   "source": []
  },
  {
   "cell_type": "code",
   "execution_count": 38,
   "id": "404d3d77-beb8-4b4e-9675-fdd850c42b18",
   "metadata": {},
   "outputs": [],
   "source": [
    "obj_car.set_speed(12345)"
   ]
  },
  {
   "cell_type": "code",
   "execution_count": 32,
   "id": "67b79bb1-9157-4365-be09-817fce5ad27e",
   "metadata": {},
   "outputs": [
    {
     "data": {
      "text/plain": [
       "12345"
      ]
     },
     "execution_count": 32,
     "metadata": {},
     "output_type": "execute_result"
    }
   ],
   "source": [
    "obj_car._car__speed"
   ]
  },
  {
   "cell_type": "code",
   "execution_count": 33,
   "id": "e3c521a1-33da-4d72-ab76-5a8fcae47050",
   "metadata": {},
   "outputs": [],
   "source": [
    "obj_car=car(2021,\"toyoto\",\"innova\",12)\n"
   ]
  },
  {
   "cell_type": "code",
   "execution_count": 17,
   "id": "ef877081-30a5-4e3b-ab43-9b7c1f7fac68",
   "metadata": {},
   "outputs": [],
   "source": []
  },
  {
   "cell_type": "code",
   "execution_count": 34,
   "id": "a5ab1bff-2bd6-45fa-925d-8280564a6cd7",
   "metadata": {},
   "outputs": [
    {
     "data": {
      "text/plain": [
       "2021"
      ]
     },
     "execution_count": 34,
     "metadata": {},
     "output_type": "execute_result"
    }
   ],
   "source": [
    "obj_car._car__year"
   ]
  },
  {
   "cell_type": "code",
   "execution_count": 35,
   "id": "66920431-18b6-4d65-8a9b-4baa9e93b6a6",
   "metadata": {},
   "outputs": [],
   "source": [
    "obj_car._car__year=2023"
   ]
  },
  {
   "cell_type": "code",
   "execution_count": 36,
   "id": "ee8ade4b-0199-465b-89cf-0c82d1cf46c6",
   "metadata": {},
   "outputs": [
    {
     "data": {
      "text/plain": [
       "2023"
      ]
     },
     "execution_count": 36,
     "metadata": {},
     "output_type": "execute_result"
    }
   ],
   "source": [
    "obj_car._car__year"
   ]
  },
  {
   "cell_type": "code",
   "execution_count": 49,
   "id": "7e54c773-05a5-40ce-b6ab-eb44d24e06a3",
   "metadata": {},
   "outputs": [],
   "source": [
    "class bank_account:\n",
    "    def __init__(self,balance):\n",
    "        self.__balance=balance\n",
    "    def deposit(self,amount):\n",
    "        self.__balance=self.__balance+amount\n",
    "        \n",
    "    def withdraw(self,amount):\n",
    "        if self.__balance>=amount:\n",
    "            self.__balance=self.__balance-amount\n",
    "            return True\n",
    "        else:\n",
    "            return False\n",
    "    def get_balance(self):\n",
    "        return self.__balance"
   ]
  },
  {
   "cell_type": "code",
   "execution_count": 41,
   "id": "af7775ed-e79c-475f-a063-525d332c7117",
   "metadata": {},
   "outputs": [],
   "source": [
    "obj_bank=bank_account(1000)"
   ]
  },
  {
   "cell_type": "code",
   "execution_count": 42,
   "id": "9a4dad02-6c47-4a0c-a34a-53f44dfbd180",
   "metadata": {},
   "outputs": [
    {
     "data": {
      "text/plain": [
       "1000"
      ]
     },
     "execution_count": 42,
     "metadata": {},
     "output_type": "execute_result"
    }
   ],
   "source": [
    "obj_bank.get_balance()"
   ]
  },
  {
   "cell_type": "code",
   "execution_count": 53,
   "id": "524c0ce9-eda1-4561-a15d-60b91f0a384d",
   "metadata": {},
   "outputs": [],
   "source": [
    "obj_bank.deposit(1)"
   ]
  },
  {
   "cell_type": "code",
   "execution_count": 54,
   "id": "d15bff96-7198-4e45-9b77-19964e26d26f",
   "metadata": {},
   "outputs": [
    {
     "data": {
      "text/plain": [
       "51001"
      ]
     },
     "execution_count": 54,
     "metadata": {},
     "output_type": "execute_result"
    }
   ],
   "source": [
    "obj_bank.get_balance()"
   ]
  },
  {
   "cell_type": "code",
   "execution_count": 55,
   "id": "89565b75-99fa-4f20-9075-446c47e776ab",
   "metadata": {},
   "outputs": [
    {
     "data": {
      "text/plain": [
       "True"
      ]
     },
     "execution_count": 55,
     "metadata": {},
     "output_type": "execute_result"
    }
   ],
   "source": [
    "obj_bank.withdraw(20000)"
   ]
  },
  {
   "cell_type": "code",
   "execution_count": 56,
   "id": "bfaec29c-78ad-420a-bd59-500f2b304363",
   "metadata": {},
   "outputs": [
    {
     "data": {
      "text/plain": [
       "31001"
      ]
     },
     "execution_count": 56,
     "metadata": {},
     "output_type": "execute_result"
    }
   ],
   "source": [
    "obj_bank.get_balance()"
   ]
  },
  {
   "cell_type": "code",
   "execution_count": 57,
   "id": "c791c809-1410-40a9-8d5f-b2c1249cd316",
   "metadata": {},
   "outputs": [
    {
     "data": {
      "text/plain": [
       "True"
      ]
     },
     "execution_count": 57,
     "metadata": {},
     "output_type": "execute_result"
    }
   ],
   "source": [
    "obj_bank.withdraw(30000)"
   ]
  },
  {
   "cell_type": "code",
   "execution_count": 58,
   "id": "e27392b8-baf0-469e-ac64-b747fdec2b4a",
   "metadata": {},
   "outputs": [
    {
     "data": {
      "text/plain": [
       "1001"
      ]
     },
     "execution_count": 58,
     "metadata": {},
     "output_type": "execute_result"
    }
   ],
   "source": [
    "obj_bank.get_balance()"
   ]
  },
  {
   "cell_type": "code",
   "execution_count": 59,
   "id": "ba13acb3-a6da-455c-a798-b259ebaa03fd",
   "metadata": {},
   "outputs": [
    {
     "data": {
      "text/plain": [
       "True"
      ]
     },
     "execution_count": 59,
     "metadata": {},
     "output_type": "execute_result"
    }
   ],
   "source": [
    "obj_bank.withdraw(700)"
   ]
  },
  {
   "cell_type": "code",
   "execution_count": 60,
   "id": "c9a7095f-3e54-4405-8779-119978b762c5",
   "metadata": {},
   "outputs": [
    {
     "data": {
      "text/plain": [
       "301"
      ]
     },
     "execution_count": 60,
     "metadata": {},
     "output_type": "execute_result"
    }
   ],
   "source": [
    "obj_bank.get_balance()"
   ]
  },
  {
   "cell_type": "code",
   "execution_count": 61,
   "id": "cec7fdde-22ba-46b3-b86c-57908e554818",
   "metadata": {},
   "outputs": [
    {
     "data": {
      "text/plain": [
       "True"
      ]
     },
     "execution_count": 61,
     "metadata": {},
     "output_type": "execute_result"
    }
   ],
   "source": [
    "obj_bank.withdraw(300)"
   ]
  },
  {
   "cell_type": "markdown",
   "id": "cc15e9cd-dfb1-48ed-81ea-665ca5286716",
   "metadata": {},
   "source": [
    " ## inheritance"
   ]
  },
  {
   "cell_type": "raw",
   "id": "f800c453-5c4e-4e88-ad2d-f77105d34384",
   "metadata": {},
   "source": [
    "## single inheritence\n",
    "##    parent\n",
    "##      |\n",
    "##   child"
   ]
  },
  {
   "cell_type": "code",
   "execution_count": 62,
   "id": "3aa927d8-1b7c-4a8e-b3f6-c2c8e2d5a530",
   "metadata": {},
   "outputs": [],
   "source": [
    "class parent:\n",
    "    def test_parent(self):\n",
    "        print(\"this is my parent class\")"
   ]
  },
  {
   "cell_type": "code",
   "execution_count": 63,
   "id": "10a55226-f257-4f49-8904-037f2fdf97a0",
   "metadata": {},
   "outputs": [],
   "source": [
    "class child(parent):\n",
    "    pass"
   ]
  },
  {
   "cell_type": "code",
   "execution_count": 64,
   "id": "9dc4fc15-898a-4f35-8fb2-41ff6aba67ec",
   "metadata": {},
   "outputs": [],
   "source": [
    "child_obj=child()"
   ]
  },
  {
   "cell_type": "code",
   "execution_count": 65,
   "id": "f5f905e6-f77f-4376-b36c-cb21da45d19b",
   "metadata": {},
   "outputs": [
    {
     "name": "stdout",
     "output_type": "stream",
     "text": [
      "this is my parent class\n"
     ]
    }
   ],
   "source": [
    "child_obj.test_parent()"
   ]
  },
  {
   "cell_type": "markdown",
   "id": "9c11e9d2-b2b3-407b-9541-b1c1910149bb",
   "metadata": {},
   "source": [
    "## multilevel inheritance"
   ]
  },
  {
   "cell_type": "raw",
   "id": "1758a52d-6427-4c4d-817a-300895900f27",
   "metadata": {},
   "source": [
    "## class 1\n",
    "##  |\n",
    "## class 2\n",
    "##   |\n",
    "## class 3"
   ]
  },
  {
   "cell_type": "code",
   "execution_count": 66,
   "id": "434307e9-c0ef-4194-a17c-b472700e080a",
   "metadata": {},
   "outputs": [],
   "source": [
    "class class1:\n",
    "    def test_class1(self):\n",
    "        print(\"this is my class1\")"
   ]
  },
  {
   "cell_type": "code",
   "execution_count": 67,
   "id": "e07ee965-7e31-4942-b20e-c8fe4d052719",
   "metadata": {},
   "outputs": [],
   "source": [
    "class class2(class1):\n",
    "    def test_class2(self):\n",
    "        print(\"this is my class2\")"
   ]
  },
  {
   "cell_type": "code",
   "execution_count": 68,
   "id": "fea13d89-69be-4df2-84fe-bb51e579bdb2",
   "metadata": {},
   "outputs": [],
   "source": [
    "class class3(class2):\n",
    "    def test_class3(self):\n",
    "        print(\"this is my class3\")"
   ]
  },
  {
   "cell_type": "code",
   "execution_count": 69,
   "id": "6b2bce1f-1748-409d-a30e-c3ecd0c788d0",
   "metadata": {},
   "outputs": [],
   "source": [
    "obj_class3=class3()"
   ]
  },
  {
   "cell_type": "code",
   "execution_count": 70,
   "id": "4f0c5524-8765-4926-bcf6-6e5393cd9f52",
   "metadata": {},
   "outputs": [
    {
     "name": "stdout",
     "output_type": "stream",
     "text": [
      "this is my class1\n"
     ]
    }
   ],
   "source": [
    "obj_class3.test_class1()"
   ]
  },
  {
   "cell_type": "code",
   "execution_count": 71,
   "id": "50e4318a-4bc1-49c8-b8f6-7db2483b51ff",
   "metadata": {},
   "outputs": [
    {
     "name": "stdout",
     "output_type": "stream",
     "text": [
      "this is my class2\n"
     ]
    }
   ],
   "source": [
    "obj_class3.test_class2()"
   ]
  },
  {
   "cell_type": "code",
   "execution_count": 72,
   "id": "0cb96004-7e19-427b-88c9-5918e2e608b4",
   "metadata": {},
   "outputs": [
    {
     "name": "stdout",
     "output_type": "stream",
     "text": [
      "this is my class3\n"
     ]
    }
   ],
   "source": [
    "obj_class3.test_class3()"
   ]
  },
  {
   "cell_type": "markdown",
   "id": "64ee9ba2-20c5-41ca-843f-d4c834549283",
   "metadata": {},
   "source": [
    "## multiple inheitance"
   ]
  },
  {
   "cell_type": "raw",
   "id": "4a545ab4-59aa-4339-ae5f-7b52f10cc036",
   "metadata": {},
   "source": [
    "##      class1       class2\n",
    "##          \\         /\n",
    "##             class3"
   ]
  },
  {
   "cell_type": "code",
   "execution_count": 74,
   "id": "09adb73d-8e71-4d73-822d-509559c29e94",
   "metadata": {},
   "outputs": [],
   "source": [
    "class class1:\n",
    "    def test_class1(self):\n",
    "        print(\"this is my class 1\")"
   ]
  },
  {
   "cell_type": "code",
   "execution_count": 75,
   "id": "a3703efa-735b-4b0d-b0ba-dec53e85d023",
   "metadata": {},
   "outputs": [],
   "source": [
    "class class2:\n",
    "    def test_class2(self):\n",
    "        print(\"this is my class 2\")"
   ]
  },
  {
   "cell_type": "code",
   "execution_count": 76,
   "id": "0747cee1-dffd-4b7c-90f9-bcf104207d66",
   "metadata": {},
   "outputs": [],
   "source": [
    "class class3(class1,class2):\n",
    "    pass\n",
    "    "
   ]
  },
  {
   "cell_type": "code",
   "execution_count": 77,
   "id": "a4a2f597-b7ba-431b-bf3f-6978ac1bebcd",
   "metadata": {},
   "outputs": [],
   "source": [
    "obj_class3=class3()"
   ]
  },
  {
   "cell_type": "code",
   "execution_count": 78,
   "id": "48fe7673-19d3-4cc6-b5b0-8013411b64d5",
   "metadata": {},
   "outputs": [
    {
     "name": "stdout",
     "output_type": "stream",
     "text": [
      "this is my class 1\n"
     ]
    }
   ],
   "source": [
    "obj_class3.test_class1()"
   ]
  },
  {
   "cell_type": "code",
   "execution_count": 79,
   "id": "66709dc2-98ce-43dd-a1af-1c8766b1941b",
   "metadata": {},
   "outputs": [
    {
     "name": "stdout",
     "output_type": "stream",
     "text": [
      "this is my class 2\n"
     ]
    }
   ],
   "source": [
    "obj_class3.test_class2()"
   ]
  },
  {
   "cell_type": "code",
   "execution_count": null,
   "id": "fbdd42eb-b40e-4383-b174-9f48a54f71f9",
   "metadata": {},
   "outputs": [],
   "source": []
  },
  {
   "cell_type": "code",
   "execution_count": null,
   "id": "0af98105-4207-4b8c-8475-3be363db3378",
   "metadata": {},
   "outputs": [],
   "source": []
  },
  {
   "cell_type": "code",
   "execution_count": null,
   "id": "2c9b4aea-b9be-4e07-8716-3a297c2d4dd1",
   "metadata": {},
   "outputs": [],
   "source": []
  },
  {
   "cell_type": "code",
   "execution_count": null,
   "id": "a7b073ff-990b-4d0d-87ea-d66d0c866002",
   "metadata": {},
   "outputs": [],
   "source": []
  },
  {
   "cell_type": "code",
   "execution_count": null,
   "id": "c13ca6be-a626-4775-b1ec-c81f537a7966",
   "metadata": {},
   "outputs": [],
   "source": []
  },
  {
   "cell_type": "code",
   "execution_count": null,
   "id": "569b65fe-48ee-4ac2-8a97-1936cf3ffef3",
   "metadata": {},
   "outputs": [],
   "source": []
  },
  {
   "cell_type": "code",
   "execution_count": null,
   "id": "fc786e21-f3a2-47e5-95ca-5b28ea3ba891",
   "metadata": {},
   "outputs": [],
   "source": []
  },
  {
   "cell_type": "code",
   "execution_count": null,
   "id": "2168bd8d-a649-412a-8f21-557fee50aecf",
   "metadata": {},
   "outputs": [],
   "source": []
  },
  {
   "cell_type": "code",
   "execution_count": null,
   "id": "f60b33ec-cc65-493c-a044-e9637b1e92d6",
   "metadata": {},
   "outputs": [],
   "source": []
  }
 ],
 "metadata": {
  "kernelspec": {
   "display_name": "Python 3 (ipykernel)",
   "language": "python",
   "name": "python3"
  },
  "language_info": {
   "codemirror_mode": {
    "name": "ipython",
    "version": 3
   },
   "file_extension": ".py",
   "mimetype": "text/x-python",
   "name": "python",
   "nbconvert_exporter": "python",
   "pygments_lexer": "ipython3",
   "version": "3.10.8"
  }
 },
 "nbformat": 4,
 "nbformat_minor": 5
}
