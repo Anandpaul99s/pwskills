{
 "cells": [
  {
   "cell_type": "markdown",
   "id": "73832a0c-93d6-4447-a05b-2ea2f40b1986",
   "metadata": {},
   "source": [
    "## Q1. Create a Pandas Series that contains the following data: 4, 8, 15, 16, 23, and 42. Then, print the series."
   ]
  },
  {
   "cell_type": "markdown",
   "id": "64db544f-6cb2-4e43-b489-14fa5714e95f",
   "metadata": {},
   "source": [
    "## A)Panada Series is like a column in a table, it is a one dimensional array holding of any type"
   ]
  },
  {
   "cell_type": "code",
   "execution_count": 1,
   "id": "f1bb06bb-acd6-45e4-aa15-7fbdb687ee75",
   "metadata": {},
   "outputs": [
    {
     "name": "stdout",
     "output_type": "stream",
     "text": [
      "0     4\n",
      "1     8\n",
      "2    15\n",
      "3    16\n",
      "4    23\n",
      "5    42\n",
      "dtype: int64\n"
     ]
    }
   ],
   "source": [
    "import pandas as pd\n",
    "l=[4,8,15,16,23,42]\n",
    "series=pd.Series(l)\n",
    "print(series)"
   ]
  },
  {
   "cell_type": "markdown",
   "id": "09333bc7-b786-4ee1-98d7-e7f799239bf3",
   "metadata": {},
   "source": [
    "## Q2. Create a variable of list type containing 10 elements in it, and apply pandas.Series function on the variable print it."
   ]
  },
  {
   "cell_type": "code",
   "execution_count": 2,
   "id": "2a0dd221-9d45-42c8-8644-69c807c7e41c",
   "metadata": {},
   "outputs": [
    {
     "name": "stdout",
     "output_type": "stream",
     "text": [
      "0     1\n",
      "1     8\n",
      "2     5\n",
      "3     5\n",
      "4    45\n",
      "5    86\n",
      "6     2\n",
      "7    47\n",
      "8     9\n",
      "9    20\n",
      "dtype: int64\n"
     ]
    }
   ],
   "source": [
    "import pandas as pd\n",
    "a=[1,8,5,5,45,86,2,47,9,20]\n",
    "se=pd.Series(a)\n",
    "print(se)"
   ]
  },
  {
   "cell_type": "markdown",
   "id": "3013c58f-3af3-421c-a897-b4e754e7355d",
   "metadata": {},
   "source": [
    "## Q3. Create a Pandas DataFrame that contains the following data:\n",
    "## Name    Age Gender\n",
    "## Alice   25   Female\n",
    "## Bob     30   Male\n",
    "## Claire  27   Female\n",
    "## print it\n"
   ]
  },
  {
   "cell_type": "code",
   "execution_count": 13,
   "id": "bcd308e1-c5fa-41a5-804e-4a4e4e4ecbaa",
   "metadata": {},
   "outputs": [
    {
     "name": "stdout",
     "output_type": "stream",
     "text": [
      "     Name  Age  Gender\n",
      "0   Alice   25  Female\n",
      "1     Bob   30    Male\n",
      "2  Claire   27  Female\n"
     ]
    }
   ],
   "source": [
    "import pandas as pd\n",
    "data=[['Alice',25,'Female'],['Bob',30,'Male'],['Claire',27,'Female']]\n",
    "df=pd.DataFrame(data,columns=['Name','Age','Gender'])\n",
    "print(df)"
   ]
  },
  {
   "cell_type": "markdown",
   "id": "db83f01f-4e40-4d29-a9ec-069c11ed5ff9",
   "metadata": {},
   "source": [
    "## Q4. What is ‘DataFrame’ in pandas and how is it different from pandas.series? Explain with an example."
   ]
  },
  {
   "cell_type": "markdown",
   "id": "83da80d0-9502-460f-a543-7d7cea63bd06",
   "metadata": {},
   "source": [
    "## A pandas series is a one-dimensional data structure that comprises of key-value pair, where keys/labels are the indices and values are the values stored on that index.\n",
    "## A pandas DataFrame is a two-dimensional data structure that can be thought of as a spreadsheet. It can also be thought of as a collection of two or more series with common indices.\n"
   ]
  },
  {
   "cell_type": "code",
   "execution_count": 16,
   "id": "028e56b0-ae20-4b24-9a16-b96fb468ff3a",
   "metadata": {},
   "outputs": [
    {
     "name": "stdout",
     "output_type": "stream",
     "text": [
      "This is pandas series\n",
      "0     4\n",
      "1     8\n",
      "2    15\n",
      "3    16\n",
      "4    23\n",
      "5    42\n",
      "dtype: int64\n",
      "\n",
      "This is pandas data frame:\n",
      "     Name  Age  Gender\n",
      "0   Alice   25  Female\n",
      "1     Bob   30    Male\n",
      "2  Claire   27  Female\n"
     ]
    }
   ],
   "source": [
    "import pandas as pd\n",
    "l=[4,8,15,16,23,42]\n",
    "series=pd.Series(l)\n",
    "print(\"This is pandas series\")\n",
    "print(series)\n",
    "data=[['Alice',25,'Female'],['Bob',30,'Male'],['Claire',27,'Female']]\n",
    "df=pd.DataFrame(data,columns=['Name','Age','Gender'])\n",
    "print()\n",
    "print(\"This is pandas data frame:\")\n",
    "print(df)"
   ]
  },
  {
   "cell_type": "markdown",
   "id": "dfe116d5-2194-41a9-9001-ac27061c6bf6",
   "metadata": {},
   "source": [
    "## Q5. What are some common functions you can use to manipulate data in a Pandas DataFrame? Can\n",
    "## you give an example of when you might use one of these functions?"
   ]
  },
  {
   "cell_type": "markdown",
   "id": "3e492393-7d30-4fd7-8b35-7408a25a4ce7",
   "metadata": {},
   "source": [
    "## A)There are many functions available in Pandas that can be used to manipulate data in a DataFrame. Some common functions include:\n",
    "\n",
    "## head() and tail(): These functions can be used to display the first or last few rows of a DataFrame respectively. For example, you might use df.head() to quickly check the first few rows of a DataFrame to see what kind of data it contains."
   ]
  },
  {
   "cell_type": "code",
   "execution_count": 7,
   "id": "a5c8f0e7-590b-45a6-baab-d754d1fb6486",
   "metadata": {},
   "outputs": [
    {
     "name": "stdout",
     "output_type": "stream",
     "text": [
      "   id  location_id  program_id accepted_payments alternate_name  \\\n",
      "0   1            1         NaN               NaN            NaN   \n",
      "1   2            2         NaN               NaN            NaN   \n",
      "2   3            3         NaN               NaN            NaN   \n",
      "\n",
      "                           application_process  \\\n",
      "0                   Walk in or apply by phone.   \n",
      "1           Apply by phone for an appointment.   \n",
      "2  Phone for information (403-4300 Ext. 4322).   \n",
      "\n",
      "                                            audience  \\\n",
      "0  Older adults age 55 or over, ethnic minorities...   \n",
      "1       Residents of San Mateo County age 55 or over   \n",
      "2  Older adults age 55 or over who can benefit fr...   \n",
      "\n",
      "                                         description  \\\n",
      "0  A walk-in center for older adults that provide...   \n",
      "1  Provides training and job placement to eligibl...   \n",
      "2  Offers supportive counseling services to San M...   \n",
      "\n",
      "                                         eligibility email  ...  \\\n",
      "0  Age 55 or over for most programs, age 60 or ov...   NaN  ...   \n",
      "1  Age 55 or over, county resident and willing an...   NaN  ...   \n",
      "2        Resident of San Mateo County age 55 or over   NaN  ...   \n",
      "\n",
      "  interpretation_services                                           keywords  \\\n",
      "0                     NaN  ADULT PROTECTION AND CARE SERVICES, Meal Sites...   \n",
      "1                     NaN  EMPLOYMENT/TRAINING SERVICES, Job Development,...   \n",
      "2                     NaN  Geriatric Counseling, Older Adults, Gay, Lesbi...   \n",
      "\n",
      "  languages                              name required_documents  \\\n",
      "0       NaN   Fair Oaks Adult Activity Center                NaN   \n",
      "1       NaN  Second Career Employment Program                NaN   \n",
      "2       NaN            Senior Peer Counseling                NaN   \n",
      "\n",
      "      service_areas  status wait_time website taxonomy_ids  \n",
      "0             Colma  active  No wait.     NaN          NaN  \n",
      "1  San Mateo County  active   Varies.     NaN          NaN  \n",
      "2  San Mateo County  active   Varies.     NaN          NaN  \n",
      "\n",
      "[3 rows x 22 columns]\n",
      "\n",
      "    id  location_id  program_id         accepted_payments  \\\n",
      "20  21           21         NaN                       NaN   \n",
      "21  22           22         NaN  Cash, Check, Credit Card   \n",
      "22  23           22         NaN                       NaN   \n",
      "\n",
      "           alternate_name                application_process  \\\n",
      "20                    NaN    By phone during business hours.   \n",
      "21  Fotos para pasaportes  Walk in or apply by phone or mail   \n",
      "22                    NaN  Walk in or apply by phone or mail   \n",
      "\n",
      "                                             audience  \\\n",
      "20                                                NaN   \n",
      "21  Profit and nonprofit businesses, the public, m...   \n",
      "22  Second service and nonprofit businesses, the p...   \n",
      "\n",
      "                                          description eligibility  \\\n",
      "20                                just a test service         NaN   \n",
      "21  [NOTE THIS IS NOT A REAL SERVICE--THIS IS FOR ...        None   \n",
      "22  [NOTE THIS IS NOT A REAL ORGANIZATION--THIS IS...        None   \n",
      "\n",
      "                    email  ...  \\\n",
      "20                    NaN  ...   \n",
      "21  passports@example.org  ...   \n",
      "22                    NaN  ...   \n",
      "\n",
      "                              interpretation_services  \\\n",
      "20                                                NaN   \n",
      "21  We offer 3-way interpretation services over th...   \n",
      "22                                                NaN   \n",
      "\n",
      "                                      keywords languages  \\\n",
      "20                                         NaN       NaN   \n",
      "21                             Salud, Medicina   Spanish   \n",
      "22  Ruby on Rails/Postgres/Redis, testing, wic       NaN   \n",
      "\n",
      "                               name                        required_documents  \\\n",
      "20  Service for Admin Test Location                                       NaN   \n",
      "21                  Passport Photos  Government-issued picture identification   \n",
      "22             Example Service Name                                       NaN   \n",
      "\n",
      "                       service_areas    status            wait_time  \\\n",
      "20                  San Mateo County  inactive                  NaN   \n",
      "21  Alameda County, San Mateo County    active  No wait to 2 weeks.   \n",
      "22  San Mateo County, Alameda County    active   No wait to 2 weeks   \n",
      "\n",
      "                   website                              taxonomy_ids  \n",
      "20                     NaN                                       NaN  \n",
      "21  http://www.example.com  105, 108, 108-05, 108-05-01, 111, 111-05  \n",
      "22  http://www.example.com                                       NaN  \n",
      "\n",
      "[3 rows x 22 columns]\n"
     ]
    }
   ],
   "source": [
    "import pandas as pd\n",
    "df=pd.read_csv('services.csv')\n",
    "print(df.head(3))\n",
    "print()\n",
    "print(df.tail(3))"
   ]
  },
  {
   "cell_type": "markdown",
   "id": "c38cfda1-fe96-4337-a04a-c33ad1d60051",
   "metadata": {},
   "source": [
    "## Q6)Which of the following is mutable in nature Series, DataFrame, Panel?"
   ]
  },
  {
   "cell_type": "markdown",
   "id": "773e8f96-e71c-4ad2-ac2e-39fdf97ed3bf",
   "metadata": {},
   "source": [
    "## A)Both Series and DataFrame are mutable in nature, meaning that their contents can be changed after they are created.On the other hand, Panel is deprecated since version 0.25.0, and it's not recommended to use it anymore. In any case, Panel is also mutable, as it is built on top of the DataFrame object."
   ]
  },
  {
   "cell_type": "markdown",
   "id": "f7ea95fe-1738-4391-a4bd-086875e0736c",
   "metadata": {},
   "source": [
    "## Q7. Create a DataFrame using multiple Series. Explain with an example."
   ]
  },
  {
   "cell_type": "markdown",
   "id": "b1deff87-7586-4c2c-87f2-db17afdbafc4",
   "metadata": {},
   "source": [
    "## A)To create a DataFrame using multiple Series in Pandas, we can first create the individual Series objects, and then pass them as arguments to the pd.DataFrame() constructor."
   ]
  },
  {
   "cell_type": "code",
   "execution_count": 8,
   "id": "28f4fdc4-94e3-405b-b949-18422a0c2598",
   "metadata": {},
   "outputs": [
    {
     "name": "stdout",
     "output_type": "stream",
     "text": [
      "   Name  Age  Salary\n",
      "0  John   25   50000\n",
      "1  Jane   30   60000\n",
      "2   Bob   35   70000\n"
     ]
    }
   ],
   "source": [
    "import pandas as pd\n",
    "\n",
    "# Create three Series objects\n",
    "name = pd.Series(['John', 'Jane', 'Bob'])\n",
    "age = pd.Series([25, 30, 35])\n",
    "salary = pd.Series([50000, 60000, 70000])\n",
    "\n",
    "# Combine the Series into a DataFrame\n",
    "df = pd.DataFrame({'Name': name, 'Age': age, 'Salary': salary})\n",
    "\n",
    "# Display the resulting DataFrame\n",
    "print(df)\n"
   ]
  },
  {
   "cell_type": "code",
   "execution_count": null,
   "id": "bc7b58c4-805a-4150-bf89-ec95be9c4959",
   "metadata": {},
   "outputs": [],
   "source": []
  }
 ],
 "metadata": {
  "kernelspec": {
   "display_name": "Python 3 (ipykernel)",
   "language": "python",
   "name": "python3"
  },
  "language_info": {
   "codemirror_mode": {
    "name": "ipython",
    "version": 3
   },
   "file_extension": ".py",
   "mimetype": "text/x-python",
   "name": "python",
   "nbconvert_exporter": "python",
   "pygments_lexer": "ipython3",
   "version": "3.10.8"
  }
 },
 "nbformat": 4,
 "nbformat_minor": 5
}
